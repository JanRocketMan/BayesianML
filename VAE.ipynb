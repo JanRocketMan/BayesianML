{
 "cells": [
  {
   "cell_type": "code",
   "execution_count": 1,
   "metadata": {
    "collapsed": false,
    "deletable": true,
    "editable": true
   },
   "outputs": [],
   "source": [
    "import numpy as np\n",
    "import matplotlib.pyplot as plt\n",
    "import os\n",
    "\n",
    "import torch\n",
    "import torch.nn as nn\n",
    "from torch.autograd import Variable\n",
    "import torch.optim as optim\n",
    "import torch.nn.functional as F\n",
    "from torch.distributions import Normal\n",
    "import torch.nn.init as init\n",
    "\n",
    "import torch.utils.data as Data\n",
    "import torchvision.datasets as dset\n",
    "from torchvision.transforms import ToTensor"
   ]
  },
  {
   "cell_type": "code",
   "execution_count": 2,
   "metadata": {
    "collapsed": false,
    "deletable": true,
    "editable": true
   },
   "outputs": [],
   "source": [
    "DOWNLOAD_CIFAR10 = False\n",
    "\n",
    "if not(os.path.exists('./cifar10/')) or not os.listdir('./cifar10/'):\n",
    "    # not cifar10 dir or cifar10 is empyt dir\n",
    "    DOWNLOAD_CIFAR10 = True\n",
    "\n",
    "train_set = dset.CIFAR10('./cifar10', train=True, transform=ToTensor(), download=DOWNLOAD_CIFAR10)"
   ]
  },
  {
   "cell_type": "code",
   "execution_count": 3,
   "metadata": {
    "collapsed": false,
    "deletable": true,
    "editable": true
   },
   "outputs": [
    {
     "name": "stdout",
     "output_type": "stream",
     "text": [
      "(50000, 32, 32, 3)\n",
      "50000\n"
     ]
    },
    {
     "data": {
      "image/png": "[encoded data removed]",
      "text/plain": [
       "<matplotlib.figure.Figure at 0x7f35f235bf60>"
      ]
     },
     "metadata": {},
     "output_type": "display_data"
    }
   ],
   "source": [
    "print(train_set.train_data.shape) # (50000, 32, 32, 3)\n",
    "print(len(train_set.train_labels)) # (50000)\n",
    "plt.title('%i' % train_set.train_labels[0])\n",
    "plt.imshow(train_set.train_data[0])\n",
    "plt.show()"
   ]
  },
  {
   "cell_type": "code",
   "execution_count": 4,
   "metadata": {
    "collapsed": false,
    "deletable": true,
    "editable": true
   },
   "outputs": [],
   "source": [
    "BATCH_SIZE = 80\n",
    "\n",
    "train_loader = Data.DataLoader(dataset=train_set, batch_size=BATCH_SIZE, shuffle=True)"
   ]
  },
  {
   "cell_type": "code",
   "execution_count": 7,
   "metadata": {
    "collapsed": false,
    "deletable": true,
    "editable": true
   },
   "outputs": [],
   "source": [
    "class VAE(nn.Module):\n",
    "    def __init__(self, embed_dim):\n",
    "        \"\"\"\n",
    "        :param embed_dim: dimension of the hidden space, integer\n",
    "        \"\"\"\n",
    "        super(VAE, self).__init__()\n",
    "        self.embed_dim = embed_dim\n",
    "        \n",
    "        # encoding preprocessing\n",
    "        self.conv_1_enc = nn.Conv2d(3, 3, kernel_size=2, stride=1)\n",
    "        self.conv_2_enc = nn.Conv2d(3, 32, kernel_size=2, stride=2)\n",
    "        self.conv_3_enc = nn.Conv2d(32, 32, kernel_size=2, stride=1)\n",
    "        \n",
    "        # encoding\n",
    "        self.enc2med = nn.Linear(6272, 256)\n",
    "        self.med2mu_enc = nn.Linear(256, embed_dim)\n",
    "        self.med2log_var_enc = nn.Linear(256, embed_dim)\n",
    "        \n",
    "        # decoding\n",
    "        self.sample2med = nn.Linear(embed_dim, 256)\n",
    "        self.med2mu_dec = nn.Linear(256, 6272)\n",
    "        \n",
    "        # decoding postprocessing\n",
    "        self.conv_1_dec = nn.ConvTranspose2d(32, 32, kernel_size=2, stride=1)\n",
    "        self.conv_2_dec = nn.ConvTranspose2d(32, 3, kernel_size=2, stride=2)\n",
    "        self.conv_3_dec = nn.ConvTranspose2d(3, 3, kernel_size=3, stride=1)\n",
    "        \n",
    "        self.init_weights()\n",
    "    \n",
    "    def preprocess(self, x):\n",
    "        \"\"\"\n",
    "        Applies a few convolutional layers on the input image\n",
    "        \n",
    "        :param x: inputs, Variable of shape (batch_size, 3, 32, 32)\n",
    "        :return: processed image, Variable of shape (batch_size, 32, 14, 14)\n",
    "        \"\"\"\n",
    "        conv_1 = F.relu(self.conv_1_enc(x))\n",
    "        conv_2 = F.relu(self.conv_2_enc(conv_1))\n",
    "        conv_3 = F.relu(self.conv_3_enc(conv_2))\n",
    "        return conv_3\n",
    "    \n",
    "    def encode(self, x):\n",
    "        \"\"\"\n",
    "        Retrieves hidden distribution params from the input image\n",
    "        \n",
    "        :param x: inputs, Variable of shape (batch_size, 3, 32, 32)\n",
    "        :return: mean and log_std for the hidden normal distribution, \n",
    "        two Variables of shapes (batch_size, embed_dim)\n",
    "        \"\"\"\n",
    "        flattened = x.view(x.size()[0],-1)\n",
    "        med = F.relu(self.enc2med(flattened))\n",
    "        return self.med2mu_enc(med), self.med2log_var_enc(med)\n",
    "    \n",
    "    def decode(self, z):\n",
    "        \"\"\"\n",
    "        Decodes image distribution params from the sampled hidden state\n",
    "        \n",
    "        :param z: inputs, Variable of shape (batch_size, embed_dim)\n",
    "        :return: mean and log_std for the image normal distribution,\n",
    "        two Variables of shapes (batch_size, 32, 14, 14)\n",
    "        \"\"\"\n",
    "        med = F.relu(self.sample2med(z))\n",
    "        mu_dec = self.med2mu_dec(med)\n",
    "        mu_dec = mu_dec.view(mu_dec.size()[0], 32, 14, 14)\n",
    "        return mu_dec\n",
    "    \n",
    "    def postprocess(self, x):\n",
    "        \"\"\"\n",
    "        Applies a few convolutional layers on the generated image\n",
    "        \n",
    "        :param x: inputs, Variable of shape (batch_size, 32, 14, 14)\n",
    "        :return: processed image, Variable of shape (batch_size, 3, 32, 32)\n",
    "        \"\"\"\n",
    "        deconv_1 = self.conv_1_dec(x)\n",
    "        deconv_2 = self.conv_2_dec(deconv_1)\n",
    "        deconv_3 = self.conv_3_dec(deconv_2)\n",
    "        return deconv_3\n",
    "    \n",
    "    def reparametrize(self, mu, log_var):\n",
    "        \"\"\"\n",
    "        Performs reparametrization trick to sample data\n",
    "        \n",
    "        :param mu: mean of the desired distribution, Variable of shape (batch_size, embed_dim)\n",
    "        :param log_var: log_std of the desired distribution, \n",
    "        Variable of shape (batch_size, embed_dim)\n",
    "        :return: samples, Variable of shape (batch_size, embed_dim)\n",
    "        \"\"\"\n",
    "        standard_normal = Normal(torch.zeros(mu.size()[0], self.embed_dim), \n",
    "                                      torch.ones(mu.size()[0], self.embed_dim))\n",
    "        r = Variable(standard_normal.sample(), requires_grad=False)\n",
    "        return r * torch.exp(0.5 * log_var) + mu\n",
    "    \n",
    "    def forward(self, x):\n",
    "        \"\"\"\n",
    "        Encodes input to get mean and std of hidden representations,\n",
    "        and then decodes a sample from them\n",
    "        \n",
    "        :param x: inputs, Variable of shape (batch_size, 3, 32, 32)\n",
    "        :return: post-processed mean and log_std for the image normal distribution,\n",
    "        two Variables of shapes (batch_size, 3, 32, 32)\n",
    "        \"\"\"\n",
    "        processed = self.preprocess(x)\n",
    "        self.mu_enc, self.log_var_enc = self.encode(processed)\n",
    "        \n",
    "        sample_z = self.reparametrize(self.mu_enc, self.log_var_enc)\n",
    "        \n",
    "        self.mu_dec = self.decode(sample_z)\n",
    "        \n",
    "        postprocessed = self.postprocess(self.mu_dec)\n",
    "        return postprocessed\n",
    "    \n",
    "    def vae_loss(self, prediction, target):\n",
    "        \"\"\"\n",
    "        Computes reconstruction loss, given prediction and target.\n",
    "        IMPORTANT! Assumes that the prediction was already fed through the forward\n",
    "        and self.mu_enc, self.log_var_enc, self.log_var_dec stores relevant values\n",
    "        \n",
    "        :param prediction: reconstructed image, Variable of shape (batch_size, 3, 32, 32)\n",
    "        :param target: ground-truth image, Variable of shape (batch_size, 3, 32, 32)\n",
    "        :return: averaged accross batches loss, float Variable of shape (1,)\n",
    "        \"\"\"\n",
    "        flattened_y_hat = prediction.view(prediction.size()[0],-1)\n",
    "        flattened_y = target.view(target.size()[0],-1)\n",
    "        \n",
    "        l2_loss = 0.5 * torch.sum((flattened_y_hat - flattened_y)**2, dim=1)\n",
    "        \n",
    "        kl_loss = -0.5 * torch.sum(1 + self.log_var_enc - self.mu_enc**2 - \n",
    "                                   self.log_var_enc.exp(), dim=1)\n",
    "        \n",
    "        return torch.mean(l2_loss + kl_loss)\n",
    "    \n",
    "    def generate(self, z):\n",
    "        \"\"\"\n",
    "        Generates an example with selected hidden sample\n",
    "        \n",
    "        :param z: hidden sample, Variable of shape (embed_dim,)\n",
    "        :return: generated image, Variable of shape (32, 32, 3)\n",
    "        \"\"\"\n",
    "        ex_mu = self.decode(z)\n",
    "        \n",
    "        generated = self.postprocess(ex_mu)\n",
    "        return generated.permute(0, 2, 3, 1)\n",
    "    \n",
    "    def init_weights(self):\n",
    "        \"\"\"\n",
    "        Initialize weights of the model\n",
    "        \"\"\"\n",
    "        relu_gain = init.calculate_gain('relu')\n",
    "        \n",
    "        init.xavier_uniform(self.enc2med.weight, relu_gain)\n",
    "        init.xavier_uniform(self.med2mu_enc.weight)\n",
    "        init.xavier_uniform(self.med2log_var_enc.weight)\n",
    "        \n",
    "        init.xavier_uniform(self.sample2med.weight, relu_gain)\n",
    "        init.xavier_uniform(self.med2mu_dec.weight)"
   ]
  },
  {
   "cell_type": "code",
   "execution_count": 8,
   "metadata": {
    "collapsed": false,
    "deletable": true,
    "editable": true
   },
   "outputs": [],
   "source": [
    "autoencoder = VAE(10)\n",
    "\n",
    "optimizer = optim.SGD(autoencoder.parameters(), lr=1e-3)"
   ]
  },
  {
   "cell_type": "code",
   "execution_count": 9,
   "metadata": {
    "collapsed": false,
    "deletable": true,
    "editable": true,
    "scrolled": true
   },
   "outputs": [
    {
     "name": "stdout",
     "output_type": "stream",
     "text": [
      "----------\n",
      "EPOCH: 0\n",
      "batch index: 100 \t current train loss: 62005.48138618469\n"
     ]
    },
    {
     "ename": "KeyboardInterrupt",
     "evalue": "",
     "output_type": "error",
     "traceback": [
      "\u001b[0;31m---------------------------------------------------------------------------\u001b[0m",
      "\u001b[0;31mKeyboardInterrupt\u001b[0m                         Traceback (most recent call last)",
      "\u001b[0;32m<ipython-input-9-575f885c5846>\u001b[0m in \u001b[0;36m<module>\u001b[0;34m()\u001b[0m\n\u001b[1;32m      6\u001b[0m     \u001b[0mavg_loss\u001b[0m \u001b[0;34m=\u001b[0m \u001b[0;36m0\u001b[0m\u001b[0;34m\u001b[0m\u001b[0m\n\u001b[1;32m      7\u001b[0m \u001b[0;34m\u001b[0m\u001b[0m\n\u001b[0;32m----> 8\u001b[0;31m     \u001b[0;32mfor\u001b[0m \u001b[0mbatch_ix\u001b[0m\u001b[0;34m,\u001b[0m \u001b[0;34m(\u001b[0m\u001b[0mx\u001b[0m\u001b[0;34m,\u001b[0m \u001b[0mtarget\u001b[0m\u001b[0;34m)\u001b[0m \u001b[0;32min\u001b[0m \u001b[0menumerate\u001b[0m\u001b[0;34m(\u001b[0m\u001b[0mtrain_loader\u001b[0m\u001b[0;34m)\u001b[0m\u001b[0;34m:\u001b[0m\u001b[0;34m\u001b[0m\u001b[0m\n\u001b[0m\u001b[1;32m      9\u001b[0m         \u001b[0moptimizer\u001b[0m\u001b[0;34m.\u001b[0m\u001b[0mzero_grad\u001b[0m\u001b[0;34m(\u001b[0m\u001b[0;34m)\u001b[0m\u001b[0;34m\u001b[0m\u001b[0m\n\u001b[1;32m     10\u001b[0m \u001b[0;34m\u001b[0m\u001b[0m\n",
      "\u001b[0;32m/usr/local/lib/python3.5/dist-packages/torch/utils/data/dataloader.py\u001b[0m in \u001b[0;36m__next__\u001b[0;34m(self)\u001b[0m\n\u001b[1;32m    257\u001b[0m         \u001b[0;32mif\u001b[0m \u001b[0mself\u001b[0m\u001b[0;34m.\u001b[0m\u001b[0mnum_workers\u001b[0m \u001b[0;34m==\u001b[0m \u001b[0;36m0\u001b[0m\u001b[0;34m:\u001b[0m  \u001b[0;31m# same-process loading\u001b[0m\u001b[0;34m\u001b[0m\u001b[0m\n\u001b[1;32m    258\u001b[0m             \u001b[0mindices\u001b[0m \u001b[0;34m=\u001b[0m \u001b[0mnext\u001b[0m\u001b[0;34m(\u001b[0m\u001b[0mself\u001b[0m\u001b[0;34m.\u001b[0m\u001b[0msample_iter\u001b[0m\u001b[0;34m)\u001b[0m  \u001b[0;31m# may raise StopIteration\u001b[0m\u001b[0;34m\u001b[0m\u001b[0m\n\u001b[0;32m--> 259\u001b[0;31m             \u001b[0mbatch\u001b[0m \u001b[0;34m=\u001b[0m \u001b[0mself\u001b[0m\u001b[0;34m.\u001b[0m\u001b[0mcollate_fn\u001b[0m\u001b[0;34m(\u001b[0m\u001b[0;34m[\u001b[0m\u001b[0mself\u001b[0m\u001b[0;34m.\u001b[0m\u001b[0mdataset\u001b[0m\u001b[0;34m[\u001b[0m\u001b[0mi\u001b[0m\u001b[0;34m]\u001b[0m \u001b[0;32mfor\u001b[0m \u001b[0mi\u001b[0m \u001b[0;32min\u001b[0m \u001b[0mindices\u001b[0m\u001b[0;34m]\u001b[0m\u001b[0;34m)\u001b[0m\u001b[0;34m\u001b[0m\u001b[0m\n\u001b[0m\u001b[1;32m    260\u001b[0m             \u001b[0;32mif\u001b[0m \u001b[0mself\u001b[0m\u001b[0;34m.\u001b[0m\u001b[0mpin_memory\u001b[0m\u001b[0;34m:\u001b[0m\u001b[0;34m\u001b[0m\u001b[0m\n\u001b[1;32m    261\u001b[0m                 \u001b[0mbatch\u001b[0m \u001b[0;34m=\u001b[0m \u001b[0mpin_memory_batch\u001b[0m\u001b[0;34m(\u001b[0m\u001b[0mbatch\u001b[0m\u001b[0;34m)\u001b[0m\u001b[0;34m\u001b[0m\u001b[0m\n",
      "\u001b[0;32m/usr/local/lib/python3.5/dist-packages/torch/utils/data/dataloader.py\u001b[0m in \u001b[0;36m<listcomp>\u001b[0;34m(.0)\u001b[0m\n\u001b[1;32m    257\u001b[0m         \u001b[0;32mif\u001b[0m \u001b[0mself\u001b[0m\u001b[0;34m.\u001b[0m\u001b[0mnum_workers\u001b[0m \u001b[0;34m==\u001b[0m \u001b[0;36m0\u001b[0m\u001b[0;34m:\u001b[0m  \u001b[0;31m# same-process loading\u001b[0m\u001b[0;34m\u001b[0m\u001b[0m\n\u001b[1;32m    258\u001b[0m             \u001b[0mindices\u001b[0m \u001b[0;34m=\u001b[0m \u001b[0mnext\u001b[0m\u001b[0;34m(\u001b[0m\u001b[0mself\u001b[0m\u001b[0;34m.\u001b[0m\u001b[0msample_iter\u001b[0m\u001b[0;34m)\u001b[0m  \u001b[0;31m# may raise StopIteration\u001b[0m\u001b[0;34m\u001b[0m\u001b[0m\n\u001b[0;32m--> 259\u001b[0;31m             \u001b[0mbatch\u001b[0m \u001b[0;34m=\u001b[0m \u001b[0mself\u001b[0m\u001b[0;34m.\u001b[0m\u001b[0mcollate_fn\u001b[0m\u001b[0;34m(\u001b[0m\u001b[0;34m[\u001b[0m\u001b[0mself\u001b[0m\u001b[0;34m.\u001b[0m\u001b[0mdataset\u001b[0m\u001b[0;34m[\u001b[0m\u001b[0mi\u001b[0m\u001b[0;34m]\u001b[0m \u001b[0;32mfor\u001b[0m \u001b[0mi\u001b[0m \u001b[0;32min\u001b[0m \u001b[0mindices\u001b[0m\u001b[0;34m]\u001b[0m\u001b[0;34m)\u001b[0m\u001b[0;34m\u001b[0m\u001b[0m\n\u001b[0m\u001b[1;32m    260\u001b[0m             \u001b[0;32mif\u001b[0m \u001b[0mself\u001b[0m\u001b[0;34m.\u001b[0m\u001b[0mpin_memory\u001b[0m\u001b[0;34m:\u001b[0m\u001b[0;34m\u001b[0m\u001b[0m\n\u001b[1;32m    261\u001b[0m                 \u001b[0mbatch\u001b[0m \u001b[0;34m=\u001b[0m \u001b[0mpin_memory_batch\u001b[0m\u001b[0;34m(\u001b[0m\u001b[0mbatch\u001b[0m\u001b[0;34m)\u001b[0m\u001b[0;34m\u001b[0m\u001b[0m\n",
      "\u001b[0;32m/usr/local/lib/python3.5/dist-packages/torchvision/datasets/cifar.py\u001b[0m in \u001b[0;36m__getitem__\u001b[0;34m(self, index)\u001b[0m\n\u001b[1;32m    120\u001b[0m \u001b[0;34m\u001b[0m\u001b[0m\n\u001b[1;32m    121\u001b[0m         \u001b[0;32mif\u001b[0m \u001b[0mself\u001b[0m\u001b[0;34m.\u001b[0m\u001b[0mtransform\u001b[0m \u001b[0;32mis\u001b[0m \u001b[0;32mnot\u001b[0m \u001b[0;32mNone\u001b[0m\u001b[0;34m:\u001b[0m\u001b[0;34m\u001b[0m\u001b[0m\n\u001b[0;32m--> 122\u001b[0;31m             \u001b[0mimg\u001b[0m \u001b[0;34m=\u001b[0m \u001b[0mself\u001b[0m\u001b[0;34m.\u001b[0m\u001b[0mtransform\u001b[0m\u001b[0;34m(\u001b[0m\u001b[0mimg\u001b[0m\u001b[0;34m)\u001b[0m\u001b[0;34m\u001b[0m\u001b[0m\n\u001b[0m\u001b[1;32m    123\u001b[0m \u001b[0;34m\u001b[0m\u001b[0m\n\u001b[1;32m    124\u001b[0m         \u001b[0;32mif\u001b[0m \u001b[0mself\u001b[0m\u001b[0;34m.\u001b[0m\u001b[0mtarget_transform\u001b[0m \u001b[0;32mis\u001b[0m \u001b[0;32mnot\u001b[0m \u001b[0;32mNone\u001b[0m\u001b[0;34m:\u001b[0m\u001b[0;34m\u001b[0m\u001b[0m\n",
      "\u001b[0;32m/usr/local/lib/python3.5/dist-packages/torchvision/transforms/transforms.py\u001b[0m in \u001b[0;36m__call__\u001b[0;34m(self, pic)\u001b[0m\n\u001b[1;32m     59\u001b[0m             \u001b[0mTensor\u001b[0m\u001b[0;34m:\u001b[0m \u001b[0mConverted\u001b[0m \u001b[0mimage\u001b[0m\u001b[0;34m.\u001b[0m\u001b[0;34m\u001b[0m\u001b[0m\n\u001b[1;32m     60\u001b[0m         \"\"\"\n\u001b[0;32m---> 61\u001b[0;31m         \u001b[0;32mreturn\u001b[0m \u001b[0mF\u001b[0m\u001b[0;34m.\u001b[0m\u001b[0mto_tensor\u001b[0m\u001b[0;34m(\u001b[0m\u001b[0mpic\u001b[0m\u001b[0;34m)\u001b[0m\u001b[0;34m\u001b[0m\u001b[0m\n\u001b[0m\u001b[1;32m     62\u001b[0m \u001b[0;34m\u001b[0m\u001b[0m\n\u001b[1;32m     63\u001b[0m \u001b[0;34m\u001b[0m\u001b[0m\n",
      "\u001b[0;32m/usr/local/lib/python3.5/dist-packages/torchvision/transforms/functional.py\u001b[0m in \u001b[0;36mto_tensor\u001b[0;34m(pic)\u001b[0m\n\u001b[1;32m     74\u001b[0m     \u001b[0mimg\u001b[0m \u001b[0;34m=\u001b[0m \u001b[0mimg\u001b[0m\u001b[0;34m.\u001b[0m\u001b[0mtranspose\u001b[0m\u001b[0;34m(\u001b[0m\u001b[0;36m0\u001b[0m\u001b[0;34m,\u001b[0m \u001b[0;36m1\u001b[0m\u001b[0;34m)\u001b[0m\u001b[0;34m.\u001b[0m\u001b[0mtranspose\u001b[0m\u001b[0;34m(\u001b[0m\u001b[0;36m0\u001b[0m\u001b[0;34m,\u001b[0m \u001b[0;36m2\u001b[0m\u001b[0;34m)\u001b[0m\u001b[0;34m.\u001b[0m\u001b[0mcontiguous\u001b[0m\u001b[0;34m(\u001b[0m\u001b[0;34m)\u001b[0m\u001b[0;34m\u001b[0m\u001b[0m\n\u001b[1;32m     75\u001b[0m     \u001b[0;32mif\u001b[0m \u001b[0misinstance\u001b[0m\u001b[0;34m(\u001b[0m\u001b[0mimg\u001b[0m\u001b[0;34m,\u001b[0m \u001b[0mtorch\u001b[0m\u001b[0;34m.\u001b[0m\u001b[0mByteTensor\u001b[0m\u001b[0;34m)\u001b[0m\u001b[0;34m:\u001b[0m\u001b[0;34m\u001b[0m\u001b[0m\n\u001b[0;32m---> 76\u001b[0;31m         \u001b[0;32mreturn\u001b[0m \u001b[0mimg\u001b[0m\u001b[0;34m.\u001b[0m\u001b[0mfloat\u001b[0m\u001b[0;34m(\u001b[0m\u001b[0;34m)\u001b[0m\u001b[0;34m.\u001b[0m\u001b[0mdiv\u001b[0m\u001b[0;34m(\u001b[0m\u001b[0;36m255\u001b[0m\u001b[0;34m)\u001b[0m\u001b[0;34m\u001b[0m\u001b[0m\n\u001b[0m\u001b[1;32m     77\u001b[0m     \u001b[0;32melse\u001b[0m\u001b[0;34m:\u001b[0m\u001b[0;34m\u001b[0m\u001b[0m\n\u001b[1;32m     78\u001b[0m         \u001b[0;32mreturn\u001b[0m \u001b[0mimg\u001b[0m\u001b[0;34m\u001b[0m\u001b[0m\n",
      "\u001b[0;32m/usr/local/lib/python3.5/dist-packages/torch/tensor.py\u001b[0m in \u001b[0;36mfloat\u001b[0;34m(self)\u001b[0m\n\u001b[1;32m     51\u001b[0m     \u001b[0;32mdef\u001b[0m \u001b[0mfloat\u001b[0m\u001b[0;34m(\u001b[0m\u001b[0mself\u001b[0m\u001b[0;34m)\u001b[0m\u001b[0;34m:\u001b[0m\u001b[0;34m\u001b[0m\u001b[0m\n\u001b[1;32m     52\u001b[0m         \u001b[0;34mr\"\"\"Casts this tensor to float type\"\"\"\u001b[0m\u001b[0;34m\u001b[0m\u001b[0m\n\u001b[0;32m---> 53\u001b[0;31m         \u001b[0;32mreturn\u001b[0m \u001b[0mself\u001b[0m\u001b[0;34m.\u001b[0m\u001b[0mtype\u001b[0m\u001b[0;34m(\u001b[0m\u001b[0mtype\u001b[0m\u001b[0;34m(\u001b[0m\u001b[0mself\u001b[0m\u001b[0;34m)\u001b[0m\u001b[0;34m.\u001b[0m\u001b[0m__module__\u001b[0m \u001b[0;34m+\u001b[0m \u001b[0;34m'.FloatTensor'\u001b[0m\u001b[0;34m)\u001b[0m\u001b[0;34m\u001b[0m\u001b[0m\n\u001b[0m\u001b[1;32m     54\u001b[0m \u001b[0;34m\u001b[0m\u001b[0m\n\u001b[1;32m     55\u001b[0m     \u001b[0;32mdef\u001b[0m \u001b[0mhalf\u001b[0m\u001b[0;34m(\u001b[0m\u001b[0mself\u001b[0m\u001b[0;34m)\u001b[0m\u001b[0;34m:\u001b[0m\u001b[0;34m\u001b[0m\u001b[0m\n",
      "\u001b[0;32m/usr/local/lib/python3.5/dist-packages/torch/_utils.py\u001b[0m in \u001b[0;36m_type\u001b[0;34m(self, new_type, async)\u001b[0m\n\u001b[1;32m     36\u001b[0m     \u001b[0;32mif\u001b[0m \u001b[0mnew_type\u001b[0m\u001b[0;34m.\u001b[0m\u001b[0mis_sparse\u001b[0m\u001b[0;34m:\u001b[0m\u001b[0;34m\u001b[0m\u001b[0m\n\u001b[1;32m     37\u001b[0m         \u001b[0;32mraise\u001b[0m \u001b[0mRuntimeError\u001b[0m\u001b[0;34m(\u001b[0m\u001b[0;34m\"Cannot cast dense tensor to sparse tensor\"\u001b[0m\u001b[0;34m)\u001b[0m\u001b[0;34m\u001b[0m\u001b[0m\n\u001b[0;32m---> 38\u001b[0;31m     \u001b[0;32mreturn\u001b[0m \u001b[0mnew_type\u001b[0m\u001b[0;34m(\u001b[0m\u001b[0mself\u001b[0m\u001b[0;34m.\u001b[0m\u001b[0msize\u001b[0m\u001b[0;34m(\u001b[0m\u001b[0;34m)\u001b[0m\u001b[0;34m)\u001b[0m\u001b[0;34m.\u001b[0m\u001b[0mcopy_\u001b[0m\u001b[0;34m(\u001b[0m\u001b[0mself\u001b[0m\u001b[0;34m,\u001b[0m \u001b[0masync\u001b[0m\u001b[0;34m)\u001b[0m\u001b[0;34m\u001b[0m\u001b[0m\n\u001b[0m\u001b[1;32m     39\u001b[0m \u001b[0;34m\u001b[0m\u001b[0m\n\u001b[1;32m     40\u001b[0m \u001b[0;34m\u001b[0m\u001b[0m\n",
      "\u001b[0;31mKeyboardInterrupt\u001b[0m: "
     ]
    }
   ],
   "source": [
    "N_EPOCHS = 50\n",
    "\n",
    "for epoch in range(N_EPOCHS):\n",
    "    print('-'*10)\n",
    "    print('EPOCH:', epoch)\n",
    "    avg_loss = 0\n",
    "    \n",
    "    for batch_ix, (x, target) in enumerate(train_loader):\n",
    "        optimizer.zero_grad()\n",
    "        \n",
    "        normed_x, target = Variable(x), Variable(target)\n",
    "        \n",
    "        out = autoencoder(normed_x)\n",
    "        loss = autoencoder.vae_loss(out, normed_x)\n",
    "        \n",
    "        avg_loss += loss.data[0]\n",
    "        loss.backward()\n",
    "        optimizer.step()\n",
    "        \n",
    "        if (batch_ix+1) % 100 == 0 or (batch_ix+1) == len(train_loader):\n",
    "            print('batch index:', batch_ix+1, '\\t current train loss:', \n",
    "                  len(train_loader)*avg_loss/(batch_ix+1))"
   ]
  },
  {
   "cell_type": "code",
   "execution_count": 24,
   "metadata": {
    "collapsed": false,
    "deletable": true,
    "editable": true
   },
   "outputs": [
    {
     "name": "stdout",
     "output_type": "stream",
     "text": [
      "432.6139831542969\n"
     ]
    }
   ],
   "source": [
    "for batch_ix, (x, target) in enumerate(train_loader):\n",
    "    if batch_ix == 1:\n",
    "        break\n",
    "    \n",
    "    normed_x, target = Variable(x), Variable(target)\n",
    "        \n",
    "    out = autoencoder(normed_x)\n",
    "    \n",
    "    fwd = autoencoder.preprocess(normed_x)\n",
    "    fwd = autoencoder.encode(fwd)\n",
    "    \n",
    "    loss = autoencoder.vae_loss(out, normed_x)\n",
    "    \n",
    "    ex_out = out.data[5,:,:,:].numpy()\n",
    "    ex_x = normed_x.data[5,:,:,:].numpy()\n",
    "    print(loss.data[0])"
   ]
  },
  {
   "cell_type": "code",
   "execution_count": 21,
   "metadata": {
    "collapsed": false,
    "deletable": true,
    "editable": true
   },
   "outputs": [],
   "source": [
    "ex2plot = np.moveaxis(ex_x, 0, 2)\n",
    "res2plot = np.moveaxis(ex_out, 0, 2)"
   ]
  },
  {
   "cell_type": "code",
   "execution_count": 22,
   "metadata": {
    "collapsed": false,
    "deletable": true,
    "editable": true
   },
   "outputs": [
    {
     "data": {
      "image/png": "[encoded data removed]",
      "text/plain": [
       "<matplotlib.figure.Figure at 0x7fe9902441d0>"
      ]
     },
     "metadata": {},
     "output_type": "display_data"
    }
   ],
   "source": [
    "plt.imshow(ex2plot)\n",
    "plt.show()"
   ]
  },
  {
   "cell_type": "code",
   "execution_count": 23,
   "metadata": {
    "collapsed": false,
    "deletable": true,
    "editable": true
   },
   "outputs": [
    {
     "data": {
      "image/png": "[encoded data removed]",
      "text/plain": [
       "<matplotlib.figure.Figure at 0x7fe99017d198>"
      ]
     },
     "metadata": {},
     "output_type": "display_data"
    }
   ],
   "source": [
    "plt.imshow(res2plot)\n",
    "plt.show()"
   ]
  },
  {
   "cell_type": "markdown",
   "metadata": {
    "deletable": true,
    "editable": true
   },
   "source": [
    "## VAE\n",
    "\n",
    "To reduce dimensionality of training set $X = \\{x^{(i)}: x^{(i)} \\in \\mathbb{R}^D\\}_{i=1}^n,$ from $D$ to $d$,\n",
    "our probabalistic model is:\n",
    "\n",
    "\n",
    "### $p(X, Z | \\theta) = \\prod_{i=1}^n\\big(\\prod_{k=1}^D \\mathcal{N}(x_k^{(i)}|\\mu_k(z^{(i)}), \\sigma^2_k(z^{(i)}))\\big)\\mathcal{N}(z^{(i)}|0, I_d) = \\prod_{i=1}^n\\mathcal{N}(x^{(i)}|\\theta(z^{(i)}))\\mathcal{N}(z^{(i)}|0, I_d).$\n",
    "\n",
    "Our task is to maximize $P(X|\\theta)$. We re-express this as:\n",
    "\n",
    "### $p(X|\\theta) = \\int q(Z| X)log(\\frac{p(X, Z|\\theta)}{q(Z|X)})dZ + D_{KL}(q \\| p(Z|X,\\theta)),$\n",
    "\n",
    "And apply Variational Bayes, which finally gives us the following task:\n",
    "\n",
    "### $\\hat{\\theta}, \\hat{\\phi} = argmax_{\\theta, \\phi}\\hat{\\mathcal{L}_V}(\\theta, \\phi) = argmax_{\\theta, \\phi} \\big\\{\\mathbb{E}_{q(Z|X,\\phi)}[log\\ p(X,Z|\\theta)] - D_{KL}[q(Z|X, \\phi) \\| p(Z|\\phi)]\\big\\}, \\text{where}\\ q(Z|X, \\phi) = \\prod_{i=1}^n\\big(\\prod_{k=1}^d \\mathcal{N}(z_k^{(i)}|\\tilde{\\mu}_k(x^{(i)}), \\tilde{\\sigma}^2_k(x^{(i)}))\\big) = \\prod_{i=1}^n\\mathcal{N}(z^{(i)}|\\phi(x^{(i)})).$\n",
    "\n",
    "Here $\\theta$ and $\\phi$ are obtained by two FFNs (Decoder and Encoder)."
   ]
  },
  {
   "cell_type": "markdown",
   "metadata": {
    "deletable": true,
    "editable": true
   },
   "source": [
    "To solve it we use block-wise SGD:\n",
    "\n",
    "## $\\triangledown_{\\theta}\\hat{\\mathcal{L}_V}(\\theta, \\phi) \\approx \\frac{n}{m} \\sum_{i=1}^m\\triangledown_{\\theta}log\\ p(x^{(i)} | z^{(i)}_*, \\theta);\\ z^{(i)}_* \\sim q(z^{{i}}|x^{(i)}, \\phi),$\n",
    "\n",
    "## $\\triangledown_{\\phi}\\hat{\\mathcal{L}_V}(\\theta, \\phi) \\approx \\frac{n}{m}\\sum_{i=1}^m\\big\\{ \\triangledown_{\\phi}log\\ p(x^{(i)}|g(\\varepsilon^{(i)}_*, x^{(i)}, \\phi), \\theta) - \\triangledown_{\\phi} D_{KL}(r(\\varepsilon_*^{(i)})\\|p(z^{(i)}))\\big\\};\\\\\\ \\varepsilon^{(i)}_* \\sim r(\\varepsilon),$\n",
    "\n",
    "where we re-expressed $z$ as $g(\\varepsilon, x, \\phi).$"
   ]
  },
  {
   "cell_type": "code",
   "execution_count": 6,
   "metadata": {
    "collapsed": true,
    "deletable": true,
    "editable": true
   },
   "outputs": [],
   "source": [
    "class VariationalAutoEncoder(nn.Module):\n",
    "    def __init__(self, hid_size):\n",
    "        super(VariationalAutoEncoder, self).__init__()\n",
    "        \"\"\"\n",
    "        :param inp_size: integer, dimension of the input object\n",
    "        :param hid_size: integer, dimension of the hidden representation\n",
    "        \"\"\"\n",
    "        self.hid_size = hid_size\n",
    "        \n",
    "        self.enc_conv1 = nn.Conv2d(in_channels=3, out_channels=3, kernel_size=3, padding=1)\n",
    "        self.enc_conv2 = nn.Conv2d(in_channels=3, out_channels=32, kernel_size=2, stride=2)\n",
    "        self.enc_conv3 = nn.Conv2d(in_channels=32, out_channels=32, kernel_size=3, padding=1)\n",
    "        \n",
    "        self.features2hidden = nn.Linear(in_features=8192, out_features=128)\n",
    "        self.hidden2mean = nn.Linear(in_features=128, out_features=hid_size)\n",
    "        self.hidden2sigma = nn.Linear(in_features=128, out_features=hid_size)\n",
    "        \n",
    "        self.sample2compressed = nn.Linear(in_features=hid_size, out_features=128)\n",
    "        self.compressed2features = nn.Linear(in_features=128, out_features=8192)\n",
    "        \n",
    "        self.dec_conv1 = nn.ConvTranspose2d(in_channels=32, out_channels=32, kernel_size=3, padding=1)\n",
    "        self.dec_conv2 = nn.ConvTranspose2d(in_channels=32, out_channels=32, kernel_size=2, stride=2)\n",
    "        self.dec_conv3 = nn.Conv2d(in_channels=32, out_channels=3, kernel_size=3, padding=1)\n",
    "        \n",
    "    def encode(self, x):\n",
    "        \"\"\"\n",
    "        Encodes objects to hidden representations (E: R^inp_size -> R^latent_dim)\n",
    "\n",
    "        :param x: inputs, Variable of shape (batch_size, inp_size)\n",
    "        :return:  hidden represenation of the objects, Variable of shape (batch_size, la)\n",
    "        \"\"\"\n",
    "        convolved_1 = F.relu(self.enc_conv1(x))\n",
    "        convolved_2 = F.relu(self.enc_conv2(convolved_1))\n",
    "        convolved_3 = F.relu(self.enc_conv3(convolved_2))\n",
    "        \n",
    "        flattened = convolved_3.view(convolved_3.size()[0], -1)\n",
    "        hidden = F.relu(self.features2hidden(flattened))\n",
    "        \n",
    "        return self.hidden2mean(hidden), self.hidden2sigma(hidden)\n",
    "\n",
    "    def decode(self, sample):\n",
    "        \"\"\"\n",
    "        Decodes objects from samples of hidden space (D: R^hid_size -> R^inp_size)\n",
    "\n",
    "        :param sample: samples of hidden represenatations, Variable of shape (batch_size, hid_size)\n",
    "        :return:  reconstructed objects, Variable of shape (batch_size, inp_size)\n",
    "        \"\"\"\n",
    "        compressed = F.relu(self.sample2compressed(sample))\n",
    "        flattened_pict = F.relu(self.compressed2features(compressed))\n",
    "        \n",
    "        pict = flattened_pict.view(flattened_pict.size()[0], 32, 16, 16)\n",
    "        deconvolved_1 = self.dec_conv1(pict)\n",
    "        deconvolved_2 = self.dec_conv2(deconvolved_1)\n",
    "        \n",
    "        return self.dec_conv3(deconvolved_2)\n",
    "        \n",
    "    def forward(self, x):\n",
    "        \"\"\"\n",
    "        Encodes inputs to hidden representations and decodes back.\n",
    "\n",
    "        x: inputs, Variable of shape (batch_size, inp_size)\n",
    "        return: reconstructed objects, Variable of shape (batch_size, inp_size)\n",
    "        \"\"\"\n",
    "        self.d_params = self.encode(x)\n",
    "        \n",
    "        standard_normal = Normal(torch.zeros(x.size()[0], self.hid_size), \n",
    "                                      torch.ones(x.size()[0], self.hid_size))\n",
    "        \n",
    "        r = Variable(standard_normal.sample(), requires_grad=False)\n",
    "        sample = r * self.d_params[1] + self.d_params[0]\n",
    "        \n",
    "        return self.decode(sample)\n",
    "    \n",
    "    def generate(self, n_examples):\n",
    "        standard_normal = Normal(torch.zeros(n_examples, self.hid_size), \n",
    "                                      torch.ones(n_examples, self.hid_size))\n",
    "        r = Variable(standard_normal.sample(), requires_grad=False)\n",
    "        return self.decode(r)\n",
    "\n",
    "    def vae_loss(self, recon_x, x):\n",
    "        \"\"\"\n",
    "        Calculates the loss function for VAE.\n",
    "\n",
    "        :params recon_x: reconstructed object, Variable of shape (batch_size, inp_size)\n",
    "        :params x: original object, Variable of shape (batch_size, inp_size)\n",
    "        :return: loss\n",
    "        \"\"\"\n",
    "        flattened_x = x.view(x.size()[0],-1)\n",
    "        flattened_recon_x = recon_x.view(recon_x.size()[0],-1)\n",
    "        \n",
    "        z_mean_2, z_sigma_2 = self.d_params[0] ** 2, self.d_params[1] ** 2\n",
    "        \n",
    "        kl_loss = -0.5 * torch.sum(1 + torch.log(z_sigma_2) - z_mean_2 - z_sigma_2, dim=1)\n",
    "        \n",
    "        diff = (flattened_x - flattened_recon_x) ** 2\n",
    "        \n",
    "        mse_loss = 0.5 * torch.sum(diff, dim=1)\n",
    "        \n",
    "        #print(torch.mean(kl_loss + mse_loss))\n",
    "        return torch.mean(kl_loss + mse_loss)\n",
    "    "
   ]
  },
  {
   "cell_type": "code",
   "execution_count": 7,
   "metadata": {
    "collapsed": false,
    "deletable": true,
    "editable": true
   },
   "outputs": [],
   "source": [
    "model = VariationalAutoEncoder(4)\n",
    "\n",
    "optimizer = optim.SGD(model.parameters(), lr=1e-3)"
   ]
  },
  {
   "cell_type": "code",
   "execution_count": 8,
   "metadata": {
    "collapsed": false,
    "deletable": true,
    "editable": true
   },
   "outputs": [
    {
     "name": "stdout",
     "output_type": "stream",
     "text": [
      "----------\n",
      "EPOCH: 0\n",
      "batch index: 100 avg train loss: 138.54334696233272\n",
      "batch index: 200 avg train loss: 70.55200283080342\n",
      "batch index: 300 avg train loss: 47.72513637493054\n",
      "batch index: 400 avg train loss: 36.2249989736825\n",
      "batch index: 500 avg train loss: 29.275384984761466\n",
      "batch index: 600 avg train loss: 24.613095965981465\n",
      "batch index: 700 avg train loss: 21.259147563789547\n",
      "batch index: 800 avg train loss: 18.729538727831066\n",
      "batch index: 900 avg train loss: 16.750311024321423\n",
      "batch index: 1000 avg train loss: 15.158056631907794\n",
      "----------\n",
      "EPOCH: 1\n",
      "batch index: 100 avg train loss: 0.7680609092116357\n",
      "batch index: 200 avg train loss: 0.7341566650196917\n",
      "batch index: 300 avg train loss: 0.7098210743318009\n",
      "batch index: 400 avg train loss: 0.684312653634698\n",
      "batch index: 500 avg train loss: 0.6606614128500228\n",
      "batch index: 600 avg train loss: 0.6386629689484836\n",
      "batch index: 700 avg train loss: 0.6183365566389903\n",
      "batch index: 800 avg train loss: 0.6003410466481005\n",
      "batch index: 900 avg train loss: 0.5827195013562846\n",
      "batch index: 1000 avg train loss: 0.5664255341514949\n",
      "----------\n",
      "EPOCH: 2\n",
      "batch index: 100 avg train loss: 0.40362952277064323\n",
      "batch index: 200 avg train loss: 0.39072370249778016\n",
      "batch index: 300 avg train loss: 0.38356792666017975\n",
      "batch index: 400 avg train loss: 0.3741012568585569\n",
      "batch index: 500 avg train loss: 0.36629685532301637\n",
      "batch index: 600 avg train loss: 0.35798349278047664\n",
      "batch index: 700 avg train loss: 0.35063107644340824\n",
      "batch index: 800 avg train loss: 0.34411687494721266\n",
      "batch index: 900 avg train loss: 0.33768366947770095\n",
      "batch index: 1000 avg train loss: 0.331439342163503\n",
      "----------\n",
      "EPOCH: 3\n",
      "batch index: 100 avg train loss: 0.26189957391470664\n",
      "batch index: 200 avg train loss: 0.2586510953493415\n",
      "batch index: 300 avg train loss: 0.25569981305549544\n",
      "batch index: 400 avg train loss: 0.2513802107889205\n",
      "batch index: 500 avg train loss: 0.24785501006990662\n",
      "batch index: 600 avg train loss: 0.2441711668546001\n",
      "batch index: 700 avg train loss: 0.24043048146579943\n",
      "batch index: 800 avg train loss: 0.23715305228251943\n",
      "batch index: 900 avg train loss: 0.23397070072177367\n",
      "batch index: 1000 avg train loss: 0.23117179693654163\n",
      "----------\n",
      "EPOCH: 4\n",
      "batch index: 100 avg train loss: 0.19720920342952009\n",
      "batch index: 200 avg train loss: 0.1933666069991887\n",
      "batch index: 300 avg train loss: 0.19118511397391572\n",
      "batch index: 400 avg train loss: 0.18889683403540403\n",
      "batch index: 500 avg train loss: 0.18712842730805287\n",
      "batch index: 600 avg train loss: 0.1849932187702508\n",
      "batch index: 700 avg train loss: 0.18253867153876596\n",
      "batch index: 800 avg train loss: 0.18070164285600193\n",
      "batch index: 900 avg train loss: 0.1787607169089219\n",
      "batch index: 1000 avg train loss: 0.17694174543954438\n",
      "----------\n",
      "EPOCH: 5\n",
      "batch index: 100 avg train loss: 0.15708463871851572\n",
      "batch index: 200 avg train loss: 0.15571168018504974\n",
      "batch index: 300 avg train loss: 0.15449346387758858\n",
      "batch index: 400 avg train loss: 0.15315618885215376\n",
      "batch index: 500 avg train loss: 0.15137347627431158\n",
      "batch index: 600 avg train loss: 0.1498958831342558\n",
      "batch index: 700 avg train loss: 0.14860838990924619\n",
      "batch index: 800 avg train loss: 0.14712756976950922\n",
      "batch index: 900 avg train loss: 0.14575069321112508\n",
      "batch index: 1000 avg train loss: 0.14451719507575045\n",
      "----------\n",
      "EPOCH: 6\n",
      "batch index: 100 avg train loss: 0.13062286283820865\n",
      "batch index: 200 avg train loss: 0.12943958635441954\n",
      "batch index: 300 avg train loss: 0.12857218055675435\n",
      "batch index: 400 avg train loss: 0.12768202591687447\n",
      "batch index: 500 avg train loss: 0.1265815772861243\n",
      "batch index: 600 avg train loss: 0.12553004799410722\n",
      "batch index: 700 avg train loss: 0.12460149664964013\n",
      "batch index: 800 avg train loss: 0.12364553064107905\n",
      "batch index: 900 avg train loss: 0.12266205438516209\n",
      "batch index: 1000 avg train loss: 0.1216823642328381\n",
      "----------\n",
      "EPOCH: 7\n",
      "batch index: 100 avg train loss: 0.11217552786692979\n",
      "batch index: 200 avg train loss: 0.11053724577650433\n",
      "batch index: 300 avg train loss: 0.1100260490241151\n",
      "batch index: 400 avg train loss: 0.10916048111394064\n",
      "batch index: 500 avg train loss: 0.10839445808902395\n",
      "batch index: 600 avg train loss: 0.10784767701601003\n",
      "batch index: 700 avg train loss: 0.10706127848742268\n",
      "batch index: 800 avg train loss: 0.10637677586637441\n",
      "batch index: 900 avg train loss: 0.10584732292013035\n",
      "batch index: 1000 avg train loss: 0.10504451874643568\n",
      "----------\n",
      "EPOCH: 8\n",
      "batch index: 100 avg train loss: 0.09769497485831381\n",
      "batch index: 200 avg train loss: 0.09727884698659181\n",
      "batch index: 300 avg train loss: 0.09659291335071124\n",
      "batch index: 400 avg train loss: 0.09613371004816143\n",
      "batch index: 500 avg train loss: 0.09552972748875616\n",
      "batch index: 600 avg train loss: 0.09498612725486359\n",
      "batch index: 700 avg train loss: 0.09453508009069732\n",
      "batch index: 800 avg train loss: 0.09419793147826566\n",
      "batch index: 900 avg train loss: 0.09362500958765545\n",
      "batch index: 1000 avg train loss: 0.09311541223898528\n",
      "----------\n",
      "EPOCH: 9\n",
      "batch index: 100 avg train loss: 0.08684825398959221\n",
      "batch index: 200 avg train loss: 0.08682197243906559\n",
      "batch index: 300 avg train loss: 0.08671248950995504\n",
      "batch index: 400 avg train loss: 0.0865387602592818\n",
      "batch index: 500 avg train loss: 0.08586579093709576\n",
      "batch index: 600 avg train loss: 0.08539453489550686\n",
      "batch index: 700 avg train loss: 0.08498374060727644\n",
      "batch index: 800 avg train loss: 0.08458549254573873\n",
      "batch index: 900 avg train loss: 0.0841952352888053\n",
      "batch index: 1000 avg train loss: 0.08382009496446685\n"
     ]
    }
   ],
   "source": [
    "for epoch in range(10):\n",
    "    print('-'*10)\n",
    "    print('EPOCH:', epoch)\n",
    "    ave_loss = 0\n",
    "    \n",
    "    for batch_ix, (x, target) in enumerate(train_loader):\n",
    "        optimizer.zero_grad()\n",
    "        \n",
    "        normed_x, target = Variable(x/255), Variable(target)\n",
    "        out = model(normed_x)\n",
    "        loss = model.vae_loss(out, normed_x)\n",
    "        #ave_loss = ave_loss * 0.9 + loss.data[0] * 0.1\n",
    "        ave_loss += loss.data[0] / x.size()[0]\n",
    "        loss.backward()\n",
    "        optimizer.step()\n",
    "        \n",
    "        if (batch_ix+1) % 100 == 0 or (batch_ix+1)==len(train_loader):\n",
    "            print('batch index:', batch_ix+1, 'avg train loss:', 1000*ave_loss/(batch_ix+1))"
   ]
  },
  {
   "cell_type": "code",
   "execution_count": 34,
   "metadata": {
    "collapsed": false,
    "deletable": true,
    "editable": true
   },
   "outputs": [
    {
     "data": {
      "text/plain": [
       "(6, 3, 32, 32)"
      ]
     },
     "execution_count": 34,
     "metadata": {},
     "output_type": "execute_result"
    }
   ],
   "source": [
    "examples = model.generate(6).data.numpy()\n",
    "examples.shape"
   ]
  },
  {
   "cell_type": "code",
   "execution_count": 35,
   "metadata": {
    "collapsed": false,
    "deletable": true,
    "editable": true
   },
   "outputs": [
    {
     "data": {
      "text/plain": [
       "(6, 32, 32, 3)"
      ]
     },
     "execution_count": 35,
     "metadata": {},
     "output_type": "execute_result"
    }
   ],
   "source": [
    "examples = np.rollaxis(examples, 1, 4)\n",
    "examples.shape"
   ]
  },
  {
   "cell_type": "code",
   "execution_count": 43,
   "metadata": {
    "collapsed": false,
    "deletable": true,
    "editable": true
   },
   "outputs": [
    {
     "data": {
      "image/png": "[encoded data removed]",
      "text/plain": [
       "<matplotlib.figure.Figure at 0x7f47ca0e1588>"
      ]
     },
     "metadata": {},
     "output_type": "display_data"
    }
   ],
   "source": [
    "plt.imshow(examples[4])\n",
    "plt.show()"
   ]
  },
  {
   "cell_type": "code",
   "execution_count": null,
   "metadata": {
    "collapsed": true,
    "deletable": true,
    "editable": true
   },
   "outputs": [],
   "source": [
    "n = 15\n",
    "img_size = 32\n",
    "figure = np.zeros((img_size * n, img_size * n, img_chns))\n",
    "\n",
    "for i in range(n):\n",
    "    for j in range(n):\n",
    "        z_sample = np.array([np.random.uniform(-1,1 ,size=latent_dim)])\n",
    "        x_decoded = generator.predict(z_sample)\n",
    "        img = x_decoded[0].reshape(img_size, img_size, img_chns)\n",
    "        figure[i * img_size: (i + 1) * img_size,j * img_size: (j + 1) * img_size] = img\n",
    "\n",
    "        #plt.figure(figsize=(5, 5))\n",
    "        #plt.imshow(img, cmap='Greys_r')\n",
    "        #plt.show()\n",
    "\n",
    "\n",
    "plt.figure(figsize=(20, 20))\n",
    "plt.imshow(figure, cmap='Greys_r')\n",
    "plt.show()"
   ]
  }
 ],
 "metadata": {
  "kernelspec": {
   "display_name": "Python 3",
   "language": "python",
   "name": "python3"
  },
  "language_info": {
   "codemirror_mode": {
    "name": "ipython",
    "version": 3
   },
   "file_extension": ".py",
   "mimetype": "text/x-python",
   "name": "python",
   "nbconvert_exporter": "python",
   "pygments_lexer": "ipython3",
   "version": "3.5.2"
  }
 },
 "nbformat": 4,
 "nbformat_minor": 2
}
