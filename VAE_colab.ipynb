{
 "cells": [
  {
   "cell_type": "code",
   "execution_count": 65,
   "metadata": {
    "colab": {
     "autoexec": {
      "startup": false,
      "wait_interval": 0
     },
     "base_uri": "https://localhost:8080/",
     "height": 191
    },
    "colab_type": "code",
    "collapsed": false,
    "deletable": true,
    "editable": true,
    "executionInfo": {
     "elapsed": 7206,
     "status": "ok",
     "timestamp": 1523555644410,
     "user": {
      "displayName": "Jan RocketMan",
      "photoUrl": "https://lh3.googleusercontent.com/a/default-user=s128",
      "userId": "111481953506104169496"
     },
     "user_tz": -180
    },
    "id": "3GDGuVXpdtK8",
    "outputId": "c66fde0a-4c64-4f83-da24-6162e46142ac"
   },
   "outputs": [
    {
     "name": "stdout",
     "output_type": "stream",
     "text": [
      "Requirement already satisfied: torch==0.3.0.post4 from http://download.pytorch.org/whl/cu80/torch-0.3.0.post4-cp36-cp36m-linux_x86_64.whl in /usr/local/lib/python3.6/dist-packages\r\n",
      "Requirement already satisfied: numpy in /usr/local/lib/python3.6/dist-packages (from torch==0.3.0.post4)\n",
      "Requirement already satisfied: pyyaml in /usr/local/lib/python3.6/dist-packages (from torch==0.3.0.post4)\n",
      "Requirement already satisfied: torchvision in /usr/local/lib/python3.6/dist-packages\n",
      "Requirement already satisfied: torch in /usr/local/lib/python3.6/dist-packages (from torchvision)\n",
      "Requirement already satisfied: six in /usr/local/lib/python3.6/dist-packages (from torchvision)\n",
      "Requirement already satisfied: numpy in /usr/local/lib/python3.6/dist-packages (from torchvision)\n",
      "Requirement already satisfied: pillow>=4.1.1 in /usr/local/lib/python3.6/dist-packages (from torchvision)\n",
      "Requirement already satisfied: pyyaml in /usr/local/lib/python3.6/dist-packages (from torch->torchvision)\n",
      "Requirement already satisfied: tqdm in /usr/local/lib/python3.6/dist-packages\n"
     ]
    }
   ],
   "source": [
    "!pip3 install http://download.pytorch.org/whl/cu80/torch-0.3.0.post4-cp36-cp36m-linux_x86_64.whl\n",
    "!pip3 install torchvision\n",
    "!pip3 install tqdm"
   ]
  },
  {
   "cell_type": "code",
   "execution_count": 0,
   "metadata": {
    "colab": {
     "autoexec": {
      "startup": false,
      "wait_interval": 0
     }
    },
    "colab_type": "code",
    "collapsed": true,
    "deletable": true,
    "editable": true,
    "id": "5DDoj0R-d1Wa"
   },
   "outputs": [],
   "source": [
    "import numpy as np\n",
    "import matplotlib.pyplot as plt\n",
    "\n",
    "import torch\n",
    "import torch.nn as nn\n",
    "from torch.autograd import Variable\n",
    "import torch.optim as optim\n",
    "import torch.nn.functional as F\n",
    "from torch.distributions import Normal\n",
    "import torch.nn.init as init\n",
    "\n",
    "import torch.utils.data as Data\n",
    "import torchvision.datasets as dset\n",
    "from torchvision import transforms"
   ]
  },
  {
   "cell_type": "code",
   "execution_count": 67,
   "metadata": {
    "colab": {
     "autoexec": {
      "startup": false,
      "wait_interval": 0
     },
     "base_uri": "https://localhost:8080/",
     "height": 34
    },
    "colab_type": "code",
    "collapsed": false,
    "deletable": true,
    "editable": true,
    "executionInfo": {
     "elapsed": 1476,
     "status": "ok",
     "timestamp": 1523555646734,
     "user": {
      "displayName": "Jan RocketMan",
      "photoUrl": "https://lh3.googleusercontent.com/a/default-user=s128",
      "userId": "111481953506104169496"
     },
     "user_tz": -180
    },
    "id": "8Dz1P29aeaWw",
    "outputId": "2dbd77b6-0f96-4fdd-db46-1341a9b651e2"
   },
   "outputs": [
    {
     "name": "stdout",
     "output_type": "stream",
     "text": [
      "Files already downloaded and verified\n"
     ]
    }
   ],
   "source": [
    "trans = transforms.Compose([transforms.Grayscale(),transforms.ToTensor()])\n",
    "train_set = dset.CIFAR10('./cifar10', train=True, transform=trans, download=True)"
   ]
  },
  {
   "cell_type": "code",
   "execution_count": 0,
   "metadata": {
    "colab": {
     "autoexec": {
      "startup": false,
      "wait_interval": 0
     }
    },
    "colab_type": "code",
    "collapsed": true,
    "deletable": true,
    "editable": true,
    "id": "VFxSBSvLelJ0"
   },
   "outputs": [],
   "source": [
    "BATCH_SIZE = 80\n",
    "\n",
    "train_loader = Data.DataLoader(dataset=train_set, batch_size=BATCH_SIZE, shuffle=True)"
   ]
  },
  {
   "cell_type": "code",
   "execution_count": 0,
   "metadata": {
    "colab": {
     "autoexec": {
      "startup": false,
      "wait_interval": 0
     }
    },
    "colab_type": "code",
    "collapsed": true,
    "deletable": true,
    "editable": true,
    "id": "p-rE-j1zepcM"
   },
   "outputs": [],
   "source": [
    "class SimpleVAE(nn.Module):\n",
    "    def __init__(self, embed_dim):\n",
    "        \"\"\"\n",
    "        :param embed_dim: dimension of the hidden space, integer\n",
    "        \"\"\"\n",
    "        super(SimpleVAE, self).__init__()\n",
    "        self.embed_dim = embed_dim\n",
    "        \n",
    "        # encoding\n",
    "        self.norm = nn.BatchNorm1d(32*32)\n",
    "        self.enc2med = nn.Linear(32*32, 512)\n",
    "        self.med2mu_enc = nn.Linear(512, embed_dim)\n",
    "        self.med2log_var_enc = nn.Linear(512, embed_dim)\n",
    "        \n",
    "        # decoding\n",
    "        self.sample2med = nn.Linear(embed_dim, 512)\n",
    "        self.med2mu_dec = nn.Linear(512, 32*32)\n",
    "        self.med2log_var_dec = nn.Linear(512, 32*32)\n",
    "        \n",
    "        self.init_weights()\n",
    "    \n",
    "    def encode(self, x):\n",
    "        \"\"\"\n",
    "        Retrieves hidden distribution params from the input image\n",
    "        \n",
    "        :param x: inputs, Variable of shape (batch_size, 32, 32)\n",
    "        :return: mean and log_std for the hidden normal distribution, \n",
    "        two Variables of shapes (batch_size, embed_dim)\n",
    "        \"\"\"\n",
    "        flattened = x.view(x.size()[0],-1)\n",
    "        normed_x = self.norm(flattened)\n",
    "        med = F.relu(self.enc2med(normed_x))\n",
    "        return self.med2mu_enc(med), self.med2log_var_enc(med)\n",
    "    \n",
    "    def decode(self, z):\n",
    "        \"\"\"\n",
    "        Decodes image distribution params from the sampled hidden state\n",
    "        \n",
    "        :param z: inputs, Variable of shape (batch_size, embed_dim)\n",
    "        :return: mean and log_std for the image normal distribution,\n",
    "        two Variables of shapes (batch_size, 32, 32)\n",
    "        \"\"\"\n",
    "        med = F.relu(self.sample2med(z))\n",
    "        mu_dec = self.med2mu_dec(med)\n",
    "        log_var_dec = self.med2log_var_dec(med)\n",
    "        \n",
    "        mu_dec = mu_dec.view(mu_dec.size()[0], 32, 32)\n",
    "        log_var_dec = log_var_dec.view(log_var_dec.size()[0], 32, 32)\n",
    "        return mu_dec, log_var_dec\n",
    "    \n",
    "    def reparametrize(self, mu, log_var):\n",
    "        \"\"\"\n",
    "        Performs reparametrization trick to sample data\n",
    "        \n",
    "        :param mu: mean of the desired distribution, Variable of shape (batch_size, embed_dim)\n",
    "        :param log_var: log_std of the desired distribution, \n",
    "        Variable of shape (batch_size, embed_dim)\n",
    "        :return: samples, Variable of shape (batch_size, embed_dim)\n",
    "        \"\"\"\n",
    "        standard_normal = Normal(torch.zeros(mu.size()[0], self.embed_dim), \n",
    "                                      torch.ones(mu.size()[0], self.embed_dim))\n",
    "        if torch.cuda.is_available():\n",
    "            r = Variable(standard_normal.sample().cuda(), requires_grad=False)\n",
    "        else:\n",
    "            r = Variable(standard_normal.sample(), requires_grad=False)\n",
    "        \n",
    "        return r * torch.exp(0.5 * log_var) + mu\n",
    "    \n",
    "    def forward(self, x):\n",
    "        \"\"\"\n",
    "        Encodes input to get mean and std of hidden representations,\n",
    "        and then decodes a sample from them\n",
    "        \n",
    "        :param x: inputs, Variable of shape (batch_size, 1, 32, 32)\n",
    "        :return: post-processed mean and log_std for the image normal distribution,\n",
    "        two Variables of shapes (batch_size, 32, 32)\n",
    "        \"\"\"\n",
    "        self.mu_enc, self.log_var_enc = self.encode(x)\n",
    "        \n",
    "        sample_z = self.reparametrize(self.mu_enc, self.log_var_enc)\n",
    "        \n",
    "        self.mu_dec, self.log_var_dec = self.decode(sample_z)\n",
    "        \n",
    "        return F.relu(self.mu_dec), F.relu(self.log_var_dec)\n",
    "    \n",
    "    def vae_loss(self, prediction, log_dispersion, target, tau):\n",
    "        \"\"\"\n",
    "        Computes reconstruction loss, given prediction and target.\n",
    "        IMPORTANT! Assumes that the prediction was already fed through the forward\n",
    "        and self.mu_enc, self.log_var_enc, self.log_var_dec stores relevant values\n",
    "        \n",
    "        :param prediction: reconstructed image, Variable of shape (batch_size, 32, 32)\n",
    "        :param log_dispersion: per-pixel log of dispersion, Variable of shape (batch_size, 32, 32)\n",
    "        :param target: ground-truth image, Variable of shape (batch_size, 32, 32)\n",
    "        :param tau: warm-start weight, float Variabe of shape (1,) \n",
    "        :return: averaged accross batches loss, float Variable of shape (1,)\n",
    "        \"\"\"\n",
    "        est_x = prediction.view(prediction.size()[0],-1)\n",
    "        est_log_sigma = log_dispersion.view(log_dispersion.size()[0],-1)\n",
    "        true_x = target.view(target.size()[0],-1)\n",
    "        \n",
    "        l2_loss = 0.5 * torch.sum((est_x - true_x)**2/est_log_sigma.exp(), dim=1)\n",
    "        \n",
    "        dec_reg = 0.5 * torch.sum(est_log_sigma, dim=1)\n",
    "        \n",
    "        enc_reg = (0.5/1000) * torch.sum(self.mu_enc**2 + self.log_var_enc.exp() - self.log_var_enc, dim=1)\n",
    "        \n",
    "        return torch.mean(l2_loss + dec_reg + enc_reg * tau)\n",
    "    \n",
    "    def generate(self, z):\n",
    "        \"\"\"\n",
    "        Generates an example\n",
    "        \n",
    "        :param z: hidden sample, Variable of shape (embed_dim,)\n",
    "        :return: generated image, Variable of shape (32, 32)\n",
    "        \"\"\"\n",
    "        return self.decode(z)\n",
    "    \n",
    "    def init_weights(self):\n",
    "        \"\"\"\n",
    "        Initialize weights of the model\n",
    "        \"\"\"\n",
    "        relu_gain = init.calculate_gain('relu')\n",
    "        \n",
    "        init.xavier_uniform(self.enc2med.weight, relu_gain)\n",
    "        init.xavier_uniform(self.med2mu_enc.weight)\n",
    "        init.xavier_uniform(self.med2log_var_enc.weight)\n",
    "        \n",
    "        init.xavier_uniform(self.sample2med.weight, relu_gain)\n",
    "        init.xavier_uniform(self.med2mu_dec.weight)\n",
    "        init.xavier_uniform(self.med2log_var_dec.weight)"
   ]
  },
  {
   "cell_type": "code",
   "execution_count": 70,
   "metadata": {
    "colab": {
     "autoexec": {
      "startup": false,
      "wait_interval": 0
     },
     "base_uri": "https://localhost:8080/",
     "height": 34
    },
    "colab_type": "code",
    "collapsed": false,
    "deletable": true,
    "editable": true,
    "executionInfo": {
     "elapsed": 534,
     "status": "ok",
     "timestamp": 1523555653448,
     "user": {
      "displayName": "Jan RocketMan",
      "photoUrl": "https://lh3.googleusercontent.com/a/default-user=s128",
      "userId": "111481953506104169496"
     },
     "user_tz": -180
    },
    "id": "kePOj1JJez1e",
    "outputId": "a4a7c43d-edfe-4eee-f5b0-9ab7a68088e4"
   },
   "outputs": [
    {
     "name": "stdout",
     "output_type": "stream",
     "text": [
      "using cuda...\n"
     ]
    }
   ],
   "source": [
    "autoencoder = SimpleVAE(16)\n",
    "\n",
    "optimizer = optim.Adam(autoencoder.parameters(), lr=1e-3)\n",
    "\n",
    "if torch.cuda.is_available():\n",
    "    print('using cuda...')\n",
    "    autoencoder = autoencoder.cuda()"
   ]
  },
  {
   "cell_type": "code",
   "execution_count": 0,
   "metadata": {
    "colab": {
     "autoexec": {
      "startup": false,
      "wait_interval": 0
     }
    },
    "colab_type": "code",
    "collapsed": true,
    "deletable": true,
    "editable": true,
    "id": "WSvg-lig02YI"
   },
   "outputs": [],
   "source": [
    "def dynamic_tau(epoch):\n",
    "    # warm start condition\n",
    "    tau = 0\n",
    "    if epoch < 10:\n",
    "        tau = 0\n",
    "    elif epoch < 30:\n",
    "        tau = (epoch-9)/20\n",
    "    else:\n",
    "        tau = 1\n",
    "    return tau"
   ]
  },
  {
   "cell_type": "code",
   "execution_count": 72,
   "metadata": {
    "colab": {
     "autoexec": {
      "startup": false,
      "wait_interval": 0
     },
     "base_uri": "https://localhost:8080/",
     "height": 5244
    },
    "colab_type": "code",
    "collapsed": false,
    "deletable": true,
    "editable": true,
    "executionInfo": {
     "elapsed": 1011172,
     "status": "ok",
     "timestamp": 1523556674150,
     "user": {
      "displayName": "Jan RocketMan",
      "photoUrl": "https://lh3.googleusercontent.com/a/default-user=s128",
      "userId": "111481953506104169496"
     },
     "user_tz": -180
    },
    "id": "1xfxLt-bysXc",
    "outputId": "d00c99c5-9c49-492d-d630-c3f5cbd6e99c"
   },
   "outputs": [
    {
     "name": "stderr",
     "output_type": "stream",
     "text": [
      "\r",
      "  0%|          | 0/100 [00:00<?, ?it/s]"
     ]
    },
    {
     "name": "stdout",
     "output_type": "stream",
     "text": [
      "----------\n",
      "EPOCH: 0\n"
     ]
    },
    {
     "name": "stderr",
     "output_type": "stream",
     "text": [
      "\r",
      "  1%|          | 1/100 [00:10<16:57, 10.28s/it]"
     ]
    },
    {
     "name": "stdout",
     "output_type": "stream",
     "text": [
      "EPOCH LOSS: 7520.054228782654\n",
      "----------\n",
      "EPOCH: 1\n"
     ]
    },
    {
     "name": "stderr",
     "output_type": "stream",
     "text": [
      "\r",
      "  2%|▏         | 2/100 [00:20<16:38, 10.19s/it]"
     ]
    },
    {
     "name": "stdout",
     "output_type": "stream",
     "text": [
      "EPOCH LOSS: 5316.608006954193\n",
      "----------\n",
      "EPOCH: 2\n"
     ]
    },
    {
     "name": "stderr",
     "output_type": "stream",
     "text": [
      "\r",
      "  3%|▎         | 3/100 [00:30<16:25, 10.16s/it]"
     ]
    },
    {
     "name": "stdout",
     "output_type": "stream",
     "text": [
      "EPOCH LOSS: 5141.428269863129\n",
      "----------\n",
      "EPOCH: 3\n"
     ]
    },
    {
     "name": "stderr",
     "output_type": "stream",
     "text": [
      "\r",
      "  4%|▍         | 4/100 [00:40<16:14, 10.15s/it]"
     ]
    },
    {
     "name": "stdout",
     "output_type": "stream",
     "text": [
      "EPOCH LOSS: 5029.606504917145\n",
      "----------\n",
      "EPOCH: 4\n"
     ]
    },
    {
     "name": "stderr",
     "output_type": "stream",
     "text": [
      "\r",
      "  5%|▌         | 5/100 [00:50<16:03, 10.15s/it]"
     ]
    },
    {
     "name": "stdout",
     "output_type": "stream",
     "text": [
      "EPOCH LOSS: 5006.582355976105\n",
      "----------\n",
      "EPOCH: 5\n"
     ]
    },
    {
     "name": "stderr",
     "output_type": "stream",
     "text": [
      "\r",
      "  6%|▌         | 6/100 [01:00<15:52, 10.14s/it]"
     ]
    },
    {
     "name": "stdout",
     "output_type": "stream",
     "text": [
      "EPOCH LOSS: 4955.915378570557\n",
      "----------\n",
      "EPOCH: 6\n"
     ]
    },
    {
     "name": "stderr",
     "output_type": "stream",
     "text": [
      "\r",
      "  7%|▋         | 7/100 [01:10<15:42, 10.13s/it]"
     ]
    },
    {
     "name": "stdout",
     "output_type": "stream",
     "text": [
      "EPOCH LOSS: 4918.917025566101\n",
      "----------\n",
      "EPOCH: 7\n"
     ]
    },
    {
     "name": "stderr",
     "output_type": "stream",
     "text": [
      "\r",
      "  8%|▊         | 8/100 [01:21<15:32, 10.13s/it]"
     ]
    },
    {
     "name": "stdout",
     "output_type": "stream",
     "text": [
      "EPOCH LOSS: 4896.752794742584\n",
      "----------\n",
      "EPOCH: 8\n"
     ]
    },
    {
     "name": "stderr",
     "output_type": "stream",
     "text": [
      "\r",
      "  9%|▉         | 9/100 [01:31<15:21, 10.13s/it]"
     ]
    },
    {
     "name": "stdout",
     "output_type": "stream",
     "text": [
      "EPOCH LOSS: 4862.29750919342\n",
      "----------\n",
      "EPOCH: 9\n"
     ]
    },
    {
     "name": "stderr",
     "output_type": "stream",
     "text": [
      "\r",
      " 10%|█         | 10/100 [01:41<15:11, 10.13s/it]"
     ]
    },
    {
     "name": "stdout",
     "output_type": "stream",
     "text": [
      "EPOCH LOSS: 4832.150199890137\n",
      "----------\n",
      "EPOCH: 10\n"
     ]
    },
    {
     "name": "stderr",
     "output_type": "stream",
     "text": [
      "\r",
      " 11%|█         | 11/100 [01:51<15:01, 10.13s/it]"
     ]
    },
    {
     "name": "stdout",
     "output_type": "stream",
     "text": [
      "EPOCH LOSS: 4829.240854263306\n",
      "----------\n",
      "EPOCH: 11\n"
     ]
    },
    {
     "name": "stderr",
     "output_type": "stream",
     "text": [
      "\r",
      " 12%|█▏        | 12/100 [02:01<14:51, 10.13s/it]"
     ]
    },
    {
     "name": "stdout",
     "output_type": "stream",
     "text": [
      "EPOCH LOSS: 4816.641993999481\n",
      "----------\n",
      "EPOCH: 12\n"
     ]
    },
    {
     "name": "stderr",
     "output_type": "stream",
     "text": [
      "\r",
      " 13%|█▎        | 13/100 [02:11<14:40, 10.12s/it]"
     ]
    },
    {
     "name": "stdout",
     "output_type": "stream",
     "text": [
      "EPOCH LOSS: 4824.041965484619\n",
      "----------\n",
      "EPOCH: 13\n"
     ]
    },
    {
     "name": "stderr",
     "output_type": "stream",
     "text": [
      "\r",
      " 14%|█▍        | 14/100 [02:21<14:30, 10.12s/it]"
     ]
    },
    {
     "name": "stdout",
     "output_type": "stream",
     "text": [
      "EPOCH LOSS: 4779.226736545563\n",
      "----------\n",
      "EPOCH: 14\n"
     ]
    },
    {
     "name": "stderr",
     "output_type": "stream",
     "text": [
      "\r",
      " 15%|█▌        | 15/100 [02:31<14:20, 10.12s/it]"
     ]
    },
    {
     "name": "stdout",
     "output_type": "stream",
     "text": [
      "EPOCH LOSS: 4785.335319042206\n",
      "----------\n",
      "EPOCH: 15\n"
     ]
    },
    {
     "name": "stderr",
     "output_type": "stream",
     "text": [
      "\r",
      " 16%|█▌        | 16/100 [02:41<14:10, 10.12s/it]"
     ]
    },
    {
     "name": "stdout",
     "output_type": "stream",
     "text": [
      "EPOCH LOSS: 4754.954399585724\n",
      "----------\n",
      "EPOCH: 16\n"
     ]
    },
    {
     "name": "stderr",
     "output_type": "stream",
     "text": [
      "\r",
      " 17%|█▋        | 17/100 [02:52<13:59, 10.12s/it]"
     ]
    },
    {
     "name": "stdout",
     "output_type": "stream",
     "text": [
      "EPOCH LOSS: 4747.424900054932\n",
      "----------\n",
      "EPOCH: 17\n"
     ]
    },
    {
     "name": "stderr",
     "output_type": "stream",
     "text": [
      "\r",
      " 18%|█▊        | 18/100 [03:02<13:49, 10.12s/it]"
     ]
    },
    {
     "name": "stdout",
     "output_type": "stream",
     "text": [
      "EPOCH LOSS: 4729.873741149902\n",
      "----------\n",
      "EPOCH: 18\n"
     ]
    },
    {
     "name": "stderr",
     "output_type": "stream",
     "text": [
      "\r",
      " 19%|█▉        | 19/100 [03:12<13:39, 10.12s/it]"
     ]
    },
    {
     "name": "stdout",
     "output_type": "stream",
     "text": [
      "EPOCH LOSS: 4725.190996646881\n",
      "----------\n",
      "EPOCH: 19\n"
     ]
    },
    {
     "name": "stderr",
     "output_type": "stream",
     "text": [
      "\r",
      " 20%|██        | 20/100 [03:22<13:29, 10.12s/it]"
     ]
    },
    {
     "name": "stdout",
     "output_type": "stream",
     "text": [
      "EPOCH LOSS: 4713.829625606537\n",
      "----------\n",
      "EPOCH: 20\n"
     ]
    },
    {
     "name": "stderr",
     "output_type": "stream",
     "text": [
      "\r",
      " 21%|██        | 21/100 [03:32<13:19, 10.12s/it]"
     ]
    },
    {
     "name": "stdout",
     "output_type": "stream",
     "text": [
      "EPOCH LOSS: 4716.111834526062\n",
      "----------\n",
      "EPOCH: 21\n"
     ]
    },
    {
     "name": "stderr",
     "output_type": "stream",
     "text": [
      "\r",
      " 22%|██▏       | 22/100 [03:42<13:09, 10.12s/it]"
     ]
    },
    {
     "name": "stdout",
     "output_type": "stream",
     "text": [
      "EPOCH LOSS: 4709.847551345825\n",
      "----------\n",
      "EPOCH: 22\n"
     ]
    },
    {
     "name": "stderr",
     "output_type": "stream",
     "text": [
      "\r",
      " 23%|██▎       | 23/100 [03:52<12:58, 10.12s/it]"
     ]
    },
    {
     "name": "stdout",
     "output_type": "stream",
     "text": [
      "EPOCH LOSS: 4705.215372085571\n",
      "----------\n",
      "EPOCH: 23\n"
     ]
    },
    {
     "name": "stderr",
     "output_type": "stream",
     "text": [
      "\r",
      " 24%|██▍       | 24/100 [04:02<12:48, 10.12s/it]"
     ]
    },
    {
     "name": "stdout",
     "output_type": "stream",
     "text": [
      "EPOCH LOSS: 4705.369721412659\n",
      "----------\n",
      "EPOCH: 24\n"
     ]
    },
    {
     "name": "stderr",
     "output_type": "stream",
     "text": [
      "\r",
      " 25%|██▌       | 25/100 [04:12<12:38, 10.12s/it]"
     ]
    },
    {
     "name": "stdout",
     "output_type": "stream",
     "text": [
      "EPOCH LOSS: 4693.107315063477\n",
      "----------\n",
      "EPOCH: 25\n"
     ]
    },
    {
     "name": "stderr",
     "output_type": "stream",
     "text": [
      "\r",
      " 26%|██▌       | 26/100 [04:22<12:28, 10.11s/it]"
     ]
    },
    {
     "name": "stdout",
     "output_type": "stream",
     "text": [
      "EPOCH LOSS: 4700.762793540955\n",
      "----------\n",
      "EPOCH: 26\n"
     ]
    },
    {
     "name": "stderr",
     "output_type": "stream",
     "text": [
      "\r",
      " 27%|██▋       | 27/100 [04:33<12:18, 10.11s/it]"
     ]
    },
    {
     "name": "stdout",
     "output_type": "stream",
     "text": [
      "EPOCH LOSS: 4682.87038230896\n",
      "----------\n",
      "EPOCH: 27\n"
     ]
    },
    {
     "name": "stderr",
     "output_type": "stream",
     "text": [
      "\r",
      " 28%|██▊       | 28/100 [04:43<12:08, 10.11s/it]"
     ]
    },
    {
     "name": "stdout",
     "output_type": "stream",
     "text": [
      "EPOCH LOSS: 4687.697241783142\n",
      "----------\n",
      "EPOCH: 28\n"
     ]
    },
    {
     "name": "stderr",
     "output_type": "stream",
     "text": [
      "\r",
      " 29%|██▉       | 29/100 [04:53<11:58, 10.11s/it]"
     ]
    },
    {
     "name": "stdout",
     "output_type": "stream",
     "text": [
      "EPOCH LOSS: 4679.4950041770935\n",
      "----------\n",
      "EPOCH: 29\n"
     ]
    },
    {
     "name": "stderr",
     "output_type": "stream",
     "text": [
      "\r",
      " 30%|███       | 30/100 [05:03<11:47, 10.11s/it]"
     ]
    },
    {
     "name": "stdout",
     "output_type": "stream",
     "text": [
      "EPOCH LOSS: 4684.752775192261\n",
      "----------\n",
      "EPOCH: 30\n"
     ]
    },
    {
     "name": "stderr",
     "output_type": "stream",
     "text": [
      "\r",
      " 31%|███       | 31/100 [05:13<11:37, 10.11s/it]"
     ]
    },
    {
     "name": "stdout",
     "output_type": "stream",
     "text": [
      "EPOCH LOSS: 4666.395822048187\n",
      "----------\n",
      "EPOCH: 31\n"
     ]
    },
    {
     "name": "stderr",
     "output_type": "stream",
     "text": [
      "\r",
      " 32%|███▏      | 32/100 [05:23<11:27, 10.11s/it]"
     ]
    },
    {
     "name": "stdout",
     "output_type": "stream",
     "text": [
      "EPOCH LOSS: 4666.27911233902\n",
      "----------\n",
      "EPOCH: 32\n"
     ]
    },
    {
     "name": "stderr",
     "output_type": "stream",
     "text": [
      "\r",
      " 33%|███▎      | 33/100 [05:33<11:17, 10.11s/it]"
     ]
    },
    {
     "name": "stdout",
     "output_type": "stream",
     "text": [
      "EPOCH LOSS: 4662.78538608551\n",
      "----------\n",
      "EPOCH: 33\n"
     ]
    },
    {
     "name": "stderr",
     "output_type": "stream",
     "text": [
      "\r",
      " 34%|███▍      | 34/100 [05:43<11:07, 10.11s/it]"
     ]
    },
    {
     "name": "stdout",
     "output_type": "stream",
     "text": [
      "EPOCH LOSS: 4650.670513629913\n",
      "----------\n",
      "EPOCH: 34\n"
     ]
    },
    {
     "name": "stderr",
     "output_type": "stream",
     "text": [
      "\r",
      " 35%|███▌      | 35/100 [05:53<10:57, 10.11s/it]"
     ]
    },
    {
     "name": "stdout",
     "output_type": "stream",
     "text": [
      "EPOCH LOSS: 4663.9013657569885\n",
      "----------\n",
      "EPOCH: 35\n"
     ]
    },
    {
     "name": "stderr",
     "output_type": "stream",
     "text": [
      "\r",
      " 36%|███▌      | 36/100 [06:04<10:47, 10.11s/it]"
     ]
    },
    {
     "name": "stdout",
     "output_type": "stream",
     "text": [
      "EPOCH LOSS: 4639.201328754425\n",
      "----------\n",
      "EPOCH: 36\n"
     ]
    },
    {
     "name": "stderr",
     "output_type": "stream",
     "text": [
      "\r",
      " 37%|███▋      | 37/100 [06:14<10:37, 10.11s/it]"
     ]
    },
    {
     "name": "stdout",
     "output_type": "stream",
     "text": [
      "EPOCH LOSS: 4642.385800361633\n",
      "----------\n",
      "EPOCH: 37\n"
     ]
    },
    {
     "name": "stderr",
     "output_type": "stream",
     "text": [
      "\r",
      " 38%|███▊      | 38/100 [06:24<10:27, 10.11s/it]"
     ]
    },
    {
     "name": "stdout",
     "output_type": "stream",
     "text": [
      "EPOCH LOSS: 4634.274791240692\n",
      "----------\n",
      "EPOCH: 38\n"
     ]
    },
    {
     "name": "stderr",
     "output_type": "stream",
     "text": [
      "\r",
      " 39%|███▉      | 39/100 [06:34<10:16, 10.11s/it]"
     ]
    },
    {
     "name": "stdout",
     "output_type": "stream",
     "text": [
      "EPOCH LOSS: 4647.339087486267\n",
      "----------\n",
      "EPOCH: 39\n"
     ]
    },
    {
     "name": "stderr",
     "output_type": "stream",
     "text": [
      "\r",
      " 40%|████      | 40/100 [06:44<10:06, 10.11s/it]"
     ]
    },
    {
     "name": "stdout",
     "output_type": "stream",
     "text": [
      "EPOCH LOSS: 4633.476972579956\n",
      "----------\n",
      "EPOCH: 40\n"
     ]
    },
    {
     "name": "stderr",
     "output_type": "stream",
     "text": [
      "\r",
      " 41%|████      | 41/100 [06:54<09:56, 10.11s/it]"
     ]
    },
    {
     "name": "stdout",
     "output_type": "stream",
     "text": [
      "EPOCH LOSS: 4635.407016277313\n",
      "----------\n",
      "EPOCH: 41\n"
     ]
    },
    {
     "name": "stderr",
     "output_type": "stream",
     "text": [
      "\r",
      " 42%|████▏     | 42/100 [07:04<09:46, 10.11s/it]"
     ]
    },
    {
     "name": "stdout",
     "output_type": "stream",
     "text": [
      "EPOCH LOSS: 4642.316515445709\n",
      "----------\n",
      "EPOCH: 42\n"
     ]
    },
    {
     "name": "stderr",
     "output_type": "stream",
     "text": [
      "\r",
      " 43%|████▎     | 43/100 [07:14<09:36, 10.11s/it]"
     ]
    },
    {
     "name": "stdout",
     "output_type": "stream",
     "text": [
      "EPOCH LOSS: 4643.437894821167\n",
      "----------\n",
      "EPOCH: 43\n"
     ]
    },
    {
     "name": "stderr",
     "output_type": "stream",
     "text": [
      "\r",
      " 44%|████▍     | 44/100 [07:24<09:26, 10.11s/it]"
     ]
    },
    {
     "name": "stdout",
     "output_type": "stream",
     "text": [
      "EPOCH LOSS: 4625.043781280518\n",
      "----------\n",
      "EPOCH: 44\n"
     ]
    },
    {
     "name": "stderr",
     "output_type": "stream",
     "text": [
      "\r",
      " 45%|████▌     | 45/100 [07:35<09:16, 10.11s/it]"
     ]
    },
    {
     "name": "stdout",
     "output_type": "stream",
     "text": [
      "EPOCH LOSS: 4625.332372665405\n",
      "----------\n",
      "EPOCH: 45\n"
     ]
    },
    {
     "name": "stderr",
     "output_type": "stream",
     "text": [
      "\r",
      " 46%|████▌     | 46/100 [07:45<09:06, 10.11s/it]"
     ]
    },
    {
     "name": "stdout",
     "output_type": "stream",
     "text": [
      "EPOCH LOSS: 4633.118984699249\n",
      "----------\n",
      "EPOCH: 46\n"
     ]
    },
    {
     "name": "stderr",
     "output_type": "stream",
     "text": [
      "\r",
      " 47%|████▋     | 47/100 [07:55<08:55, 10.11s/it]"
     ]
    },
    {
     "name": "stdout",
     "output_type": "stream",
     "text": [
      "EPOCH LOSS: 4617.988094329834\n",
      "----------\n",
      "EPOCH: 47\n"
     ]
    },
    {
     "name": "stderr",
     "output_type": "stream",
     "text": [
      "\r",
      " 48%|████▊     | 48/100 [08:05<08:45, 10.11s/it]"
     ]
    },
    {
     "name": "stdout",
     "output_type": "stream",
     "text": [
      "EPOCH LOSS: 4609.01941204071\n",
      "----------\n",
      "EPOCH: 48\n"
     ]
    },
    {
     "name": "stderr",
     "output_type": "stream",
     "text": [
      "\r",
      " 49%|████▉     | 49/100 [08:15<08:35, 10.11s/it]"
     ]
    },
    {
     "name": "stdout",
     "output_type": "stream",
     "text": [
      "EPOCH LOSS: 4610.963903903961\n",
      "----------\n",
      "EPOCH: 49\n"
     ]
    },
    {
     "name": "stderr",
     "output_type": "stream",
     "text": [
      "\r",
      " 50%|█████     | 50/100 [08:25<08:25, 10.11s/it]"
     ]
    },
    {
     "name": "stdout",
     "output_type": "stream",
     "text": [
      "EPOCH LOSS: 4624.973724365234\n",
      "----------\n",
      "EPOCH: 50\n"
     ]
    },
    {
     "name": "stderr",
     "output_type": "stream",
     "text": [
      "\r",
      " 51%|█████     | 51/100 [08:35<08:15, 10.11s/it]"
     ]
    },
    {
     "name": "stdout",
     "output_type": "stream",
     "text": [
      "EPOCH LOSS: 4605.641260623932\n",
      "----------\n",
      "EPOCH: 51\n"
     ]
    },
    {
     "name": "stderr",
     "output_type": "stream",
     "text": [
      "\r",
      " 52%|█████▏    | 52/100 [08:45<08:05, 10.11s/it]"
     ]
    },
    {
     "name": "stdout",
     "output_type": "stream",
     "text": [
      "EPOCH LOSS: 4615.232356071472\n",
      "----------\n",
      "EPOCH: 52\n"
     ]
    },
    {
     "name": "stderr",
     "output_type": "stream",
     "text": [
      "\r",
      " 53%|█████▎    | 53/100 [08:55<07:55, 10.11s/it]"
     ]
    },
    {
     "name": "stdout",
     "output_type": "stream",
     "text": [
      "EPOCH LOSS: 4615.392421722412\n",
      "----------\n",
      "EPOCH: 53\n"
     ]
    },
    {
     "name": "stderr",
     "output_type": "stream",
     "text": [
      "\r",
      " 54%|█████▍    | 54/100 [09:05<07:45, 10.11s/it]"
     ]
    },
    {
     "name": "stdout",
     "output_type": "stream",
     "text": [
      "EPOCH LOSS: 4611.299495220184\n",
      "----------\n",
      "EPOCH: 54\n"
     ]
    },
    {
     "name": "stderr",
     "output_type": "stream",
     "text": [
      "\r",
      " 55%|█████▌    | 55/100 [09:16<07:34, 10.11s/it]"
     ]
    },
    {
     "name": "stdout",
     "output_type": "stream",
     "text": [
      "EPOCH LOSS: 4598.999173641205\n",
      "----------\n",
      "EPOCH: 55\n"
     ]
    },
    {
     "name": "stderr",
     "output_type": "stream",
     "text": [
      "\r",
      " 56%|█████▌    | 56/100 [09:26<07:24, 10.11s/it]"
     ]
    },
    {
     "name": "stdout",
     "output_type": "stream",
     "text": [
      "EPOCH LOSS: 4591.0587911605835\n",
      "----------\n",
      "EPOCH: 56\n"
     ]
    },
    {
     "name": "stderr",
     "output_type": "stream",
     "text": [
      "\r",
      " 57%|█████▋    | 57/100 [09:36<07:14, 10.11s/it]"
     ]
    },
    {
     "name": "stdout",
     "output_type": "stream",
     "text": [
      "EPOCH LOSS: 4588.2726521492\n",
      "----------\n",
      "EPOCH: 57\n"
     ]
    },
    {
     "name": "stderr",
     "output_type": "stream",
     "text": [
      "\r",
      " 58%|█████▊    | 58/100 [09:46<07:04, 10.11s/it]"
     ]
    },
    {
     "name": "stdout",
     "output_type": "stream",
     "text": [
      "EPOCH LOSS: 4591.236759185791\n",
      "----------\n",
      "EPOCH: 58\n"
     ]
    },
    {
     "name": "stderr",
     "output_type": "stream",
     "text": [
      "\r",
      " 59%|█████▉    | 59/100 [09:56<06:54, 10.11s/it]"
     ]
    },
    {
     "name": "stdout",
     "output_type": "stream",
     "text": [
      "EPOCH LOSS: 4597.132759571075\n",
      "----------\n",
      "EPOCH: 59\n"
     ]
    },
    {
     "name": "stderr",
     "output_type": "stream",
     "text": [
      "\r",
      " 60%|██████    | 60/100 [10:06<06:44, 10.11s/it]"
     ]
    },
    {
     "name": "stdout",
     "output_type": "stream",
     "text": [
      "EPOCH LOSS: 4593.2732520103455\n",
      "----------\n",
      "EPOCH: 60\n"
     ]
    },
    {
     "name": "stderr",
     "output_type": "stream",
     "text": [
      "\r",
      " 61%|██████    | 61/100 [10:16<06:34, 10.11s/it]"
     ]
    },
    {
     "name": "stdout",
     "output_type": "stream",
     "text": [
      "EPOCH LOSS: 4593.920786857605\n",
      "----------\n",
      "EPOCH: 61\n"
     ]
    },
    {
     "name": "stderr",
     "output_type": "stream",
     "text": [
      "\r",
      " 62%|██████▏   | 62/100 [10:26<06:24, 10.11s/it]"
     ]
    },
    {
     "name": "stdout",
     "output_type": "stream",
     "text": [
      "EPOCH LOSS: 4589.51887845993\n",
      "----------\n",
      "EPOCH: 62\n"
     ]
    },
    {
     "name": "stderr",
     "output_type": "stream",
     "text": [
      "\r",
      " 63%|██████▎   | 63/100 [10:36<06:14, 10.11s/it]"
     ]
    },
    {
     "name": "stdout",
     "output_type": "stream",
     "text": [
      "EPOCH LOSS: 4588.116080760956\n",
      "----------\n",
      "EPOCH: 63\n"
     ]
    },
    {
     "name": "stderr",
     "output_type": "stream",
     "text": [
      "\r",
      " 64%|██████▍   | 64/100 [10:47<06:03, 10.11s/it]"
     ]
    },
    {
     "name": "stdout",
     "output_type": "stream",
     "text": [
      "EPOCH LOSS: 4602.450571537018\n",
      "----------\n",
      "EPOCH: 64\n"
     ]
    },
    {
     "name": "stderr",
     "output_type": "stream",
     "text": [
      "\r",
      " 65%|██████▌   | 65/100 [10:57<05:53, 10.11s/it]"
     ]
    },
    {
     "name": "stdout",
     "output_type": "stream",
     "text": [
      "EPOCH LOSS: 4582.5691447258\n",
      "----------\n",
      "EPOCH: 65\n"
     ]
    },
    {
     "name": "stderr",
     "output_type": "stream",
     "text": [
      "\r",
      " 66%|██████▌   | 66/100 [11:07<05:43, 10.11s/it]"
     ]
    },
    {
     "name": "stdout",
     "output_type": "stream",
     "text": [
      "EPOCH LOSS: 4593.947777748108\n",
      "----------\n",
      "EPOCH: 66\n"
     ]
    },
    {
     "name": "stderr",
     "output_type": "stream",
     "text": [
      "\r",
      " 67%|██████▋   | 67/100 [11:17<05:33, 10.11s/it]"
     ]
    },
    {
     "name": "stdout",
     "output_type": "stream",
     "text": [
      "EPOCH LOSS: 4569.892430305481\n",
      "----------\n",
      "EPOCH: 67\n"
     ]
    },
    {
     "name": "stderr",
     "output_type": "stream",
     "text": [
      "\r",
      " 68%|██████▊   | 68/100 [11:27<05:23, 10.11s/it]"
     ]
    },
    {
     "name": "stdout",
     "output_type": "stream",
     "text": [
      "EPOCH LOSS: 4577.333742141724\n",
      "----------\n",
      "EPOCH: 68\n"
     ]
    },
    {
     "name": "stderr",
     "output_type": "stream",
     "text": [
      "\r",
      " 69%|██████▉   | 69/100 [11:37<05:13, 10.11s/it]"
     ]
    },
    {
     "name": "stdout",
     "output_type": "stream",
     "text": [
      "EPOCH LOSS: 4586.950151920319\n",
      "----------\n",
      "EPOCH: 69\n"
     ]
    },
    {
     "name": "stderr",
     "output_type": "stream",
     "text": [
      "\r",
      " 70%|███████   | 70/100 [11:47<05:03, 10.11s/it]"
     ]
    },
    {
     "name": "stdout",
     "output_type": "stream",
     "text": [
      "EPOCH LOSS: 4578.399658203125\n",
      "----------\n",
      "EPOCH: 70\n"
     ]
    },
    {
     "name": "stderr",
     "output_type": "stream",
     "text": [
      "\r",
      " 71%|███████   | 71/100 [11:57<04:53, 10.11s/it]"
     ]
    },
    {
     "name": "stdout",
     "output_type": "stream",
     "text": [
      "EPOCH LOSS: 4589.075718402863\n",
      "----------\n",
      "EPOCH: 71\n"
     ]
    },
    {
     "name": "stderr",
     "output_type": "stream",
     "text": [
      "\r",
      " 72%|███████▏  | 72/100 [12:07<04:43, 10.11s/it]"
     ]
    },
    {
     "name": "stdout",
     "output_type": "stream",
     "text": [
      "EPOCH LOSS: 4580.704184055328\n",
      "----------\n",
      "EPOCH: 72\n"
     ]
    },
    {
     "name": "stderr",
     "output_type": "stream",
     "text": [
      "\r",
      " 73%|███████▎  | 73/100 [12:17<04:32, 10.11s/it]"
     ]
    },
    {
     "name": "stdout",
     "output_type": "stream",
     "text": [
      "EPOCH LOSS: 4572.404256343842\n",
      "----------\n",
      "EPOCH: 73\n"
     ]
    },
    {
     "name": "stderr",
     "output_type": "stream",
     "text": [
      "\r",
      " 74%|███████▍  | 74/100 [12:28<04:22, 10.11s/it]"
     ]
    },
    {
     "name": "stdout",
     "output_type": "stream",
     "text": [
      "EPOCH LOSS: 4585.422970294952\n",
      "----------\n",
      "EPOCH: 74\n"
     ]
    },
    {
     "name": "stderr",
     "output_type": "stream",
     "text": [
      "\r",
      " 75%|███████▌  | 75/100 [12:38<04:12, 10.11s/it]"
     ]
    },
    {
     "name": "stdout",
     "output_type": "stream",
     "text": [
      "EPOCH LOSS: 4574.046590328217\n",
      "----------\n",
      "EPOCH: 75\n"
     ]
    },
    {
     "name": "stderr",
     "output_type": "stream",
     "text": [
      "\r",
      " 76%|███████▌  | 76/100 [12:48<04:02, 10.11s/it]"
     ]
    },
    {
     "name": "stdout",
     "output_type": "stream",
     "text": [
      "EPOCH LOSS: 4573.679106235504\n",
      "----------\n",
      "EPOCH: 76\n"
     ]
    },
    {
     "name": "stderr",
     "output_type": "stream",
     "text": [
      "\r",
      " 77%|███████▋  | 77/100 [12:58<03:52, 10.11s/it]"
     ]
    },
    {
     "name": "stdout",
     "output_type": "stream",
     "text": [
      "EPOCH LOSS: 4565.136312007904\n",
      "----------\n",
      "EPOCH: 77\n"
     ]
    },
    {
     "name": "stderr",
     "output_type": "stream",
     "text": [
      "\r",
      " 78%|███████▊  | 78/100 [13:08<03:42, 10.11s/it]"
     ]
    },
    {
     "name": "stdout",
     "output_type": "stream",
     "text": [
      "EPOCH LOSS: 4573.842130184174\n",
      "----------\n",
      "EPOCH: 78\n"
     ]
    },
    {
     "name": "stderr",
     "output_type": "stream",
     "text": [
      "\r",
      " 79%|███████▉  | 79/100 [13:18<03:32, 10.11s/it]"
     ]
    },
    {
     "name": "stdout",
     "output_type": "stream",
     "text": [
      "EPOCH LOSS: 4555.929887771606\n",
      "----------\n",
      "EPOCH: 79\n"
     ]
    },
    {
     "name": "stderr",
     "output_type": "stream",
     "text": [
      "\r",
      " 80%|████████  | 80/100 [13:28<03:22, 10.11s/it]"
     ]
    },
    {
     "name": "stdout",
     "output_type": "stream",
     "text": [
      "EPOCH LOSS: 4570.019170284271\n",
      "----------\n",
      "EPOCH: 80\n"
     ]
    },
    {
     "name": "stderr",
     "output_type": "stream",
     "text": [
      "\r",
      " 81%|████████  | 81/100 [13:38<03:12, 10.11s/it]"
     ]
    },
    {
     "name": "stdout",
     "output_type": "stream",
     "text": [
      "EPOCH LOSS: 4570.38868522644\n",
      "----------\n",
      "EPOCH: 81\n"
     ]
    },
    {
     "name": "stderr",
     "output_type": "stream",
     "text": [
      "\r",
      " 82%|████████▏ | 82/100 [13:48<03:01, 10.11s/it]"
     ]
    },
    {
     "name": "stdout",
     "output_type": "stream",
     "text": [
      "EPOCH LOSS: 4574.880425453186\n",
      "----------\n",
      "EPOCH: 82\n"
     ]
    },
    {
     "name": "stderr",
     "output_type": "stream",
     "text": [
      "\r",
      " 83%|████████▎ | 83/100 [13:58<02:51, 10.11s/it]"
     ]
    },
    {
     "name": "stdout",
     "output_type": "stream",
     "text": [
      "EPOCH LOSS: 4572.010356426239\n",
      "----------\n",
      "EPOCH: 83\n"
     ]
    },
    {
     "name": "stderr",
     "output_type": "stream",
     "text": [
      "\r",
      " 84%|████████▍ | 84/100 [14:09<02:41, 10.11s/it]"
     ]
    },
    {
     "name": "stdout",
     "output_type": "stream",
     "text": [
      "EPOCH LOSS: 4550.044077396393\n",
      "----------\n",
      "EPOCH: 84\n"
     ]
    },
    {
     "name": "stderr",
     "output_type": "stream",
     "text": [
      "\r",
      " 85%|████████▌ | 85/100 [14:19<02:31, 10.11s/it]"
     ]
    },
    {
     "name": "stdout",
     "output_type": "stream",
     "text": [
      "EPOCH LOSS: 4575.675719261169\n",
      "----------\n",
      "EPOCH: 85\n"
     ]
    },
    {
     "name": "stderr",
     "output_type": "stream",
     "text": [
      "\r",
      " 86%|████████▌ | 86/100 [14:29<02:21, 10.11s/it]"
     ]
    },
    {
     "name": "stdout",
     "output_type": "stream",
     "text": [
      "EPOCH LOSS: 4570.11088848114\n",
      "----------\n",
      "EPOCH: 86\n"
     ]
    },
    {
     "name": "stderr",
     "output_type": "stream",
     "text": [
      "\r",
      " 87%|████████▋ | 87/100 [14:39<02:11, 10.11s/it]"
     ]
    },
    {
     "name": "stdout",
     "output_type": "stream",
     "text": [
      "EPOCH LOSS: 4561.441467761993\n",
      "----------\n",
      "EPOCH: 87\n"
     ]
    },
    {
     "name": "stderr",
     "output_type": "stream",
     "text": [
      "\r",
      " 88%|████████▊ | 88/100 [14:49<02:01, 10.11s/it]"
     ]
    },
    {
     "name": "stdout",
     "output_type": "stream",
     "text": [
      "EPOCH LOSS: 4550.4508719444275\n",
      "----------\n",
      "EPOCH: 88\n"
     ]
    },
    {
     "name": "stderr",
     "output_type": "stream",
     "text": [
      "\r",
      " 89%|████████▉ | 89/100 [14:59<01:51, 10.11s/it]"
     ]
    },
    {
     "name": "stdout",
     "output_type": "stream",
     "text": [
      "EPOCH LOSS: 4555.738861083984\n",
      "----------\n",
      "EPOCH: 89\n"
     ]
    },
    {
     "name": "stderr",
     "output_type": "stream",
     "text": [
      "\r",
      " 90%|█████████ | 90/100 [15:09<01:41, 10.11s/it]"
     ]
    },
    {
     "name": "stdout",
     "output_type": "stream",
     "text": [
      "EPOCH LOSS: 4573.563570022583\n",
      "----------\n",
      "EPOCH: 90\n"
     ]
    },
    {
     "name": "stderr",
     "output_type": "stream",
     "text": [
      "\r",
      " 91%|█████████ | 91/100 [15:19<01:30, 10.11s/it]"
     ]
    },
    {
     "name": "stdout",
     "output_type": "stream",
     "text": [
      "EPOCH LOSS: 4557.360863685608\n",
      "----------\n",
      "EPOCH: 91\n"
     ]
    },
    {
     "name": "stderr",
     "output_type": "stream",
     "text": [
      "\r",
      " 92%|█████████▏| 92/100 [15:29<01:20, 10.11s/it]"
     ]
    },
    {
     "name": "stdout",
     "output_type": "stream",
     "text": [
      "EPOCH LOSS: 4553.296642303467\n",
      "----------\n",
      "EPOCH: 92\n"
     ]
    },
    {
     "name": "stderr",
     "output_type": "stream",
     "text": [
      "\r",
      " 93%|█████████▎| 93/100 [15:39<01:10, 10.11s/it]"
     ]
    },
    {
     "name": "stdout",
     "output_type": "stream",
     "text": [
      "EPOCH LOSS: 4565.515442371368\n",
      "----------\n",
      "EPOCH: 93\n"
     ]
    },
    {
     "name": "stderr",
     "output_type": "stream",
     "text": [
      "\r",
      " 94%|█████████▍| 94/100 [15:49<01:00, 10.11s/it]"
     ]
    },
    {
     "name": "stdout",
     "output_type": "stream",
     "text": [
      "EPOCH LOSS: 4560.983346939087\n",
      "----------\n",
      "EPOCH: 94\n"
     ]
    },
    {
     "name": "stderr",
     "output_type": "stream",
     "text": [
      "\r",
      " 95%|█████████▌| 95/100 [16:00<00:50, 10.11s/it]"
     ]
    },
    {
     "name": "stdout",
     "output_type": "stream",
     "text": [
      "EPOCH LOSS: 4550.966053009033\n",
      "----------\n",
      "EPOCH: 95\n"
     ]
    },
    {
     "name": "stderr",
     "output_type": "stream",
     "text": [
      "\r",
      " 96%|█████████▌| 96/100 [16:10<00:40, 10.11s/it]"
     ]
    },
    {
     "name": "stdout",
     "output_type": "stream",
     "text": [
      "EPOCH LOSS: 4554.184484958649\n",
      "----------\n",
      "EPOCH: 96\n"
     ]
    },
    {
     "name": "stderr",
     "output_type": "stream",
     "text": [
      "\r",
      " 97%|█████████▋| 97/100 [16:20<00:30, 10.11s/it]"
     ]
    },
    {
     "name": "stdout",
     "output_type": "stream",
     "text": [
      "EPOCH LOSS: 4542.06617307663\n",
      "----------\n",
      "EPOCH: 97\n"
     ]
    },
    {
     "name": "stderr",
     "output_type": "stream",
     "text": [
      "\r",
      " 98%|█████████▊| 98/100 [16:30<00:20, 10.11s/it]"
     ]
    },
    {
     "name": "stdout",
     "output_type": "stream",
     "text": [
      "EPOCH LOSS: 4549.084393501282\n",
      "----------\n",
      "EPOCH: 98\n"
     ]
    },
    {
     "name": "stderr",
     "output_type": "stream",
     "text": [
      "\r",
      " 99%|█████████▉| 99/100 [16:40<00:10, 10.11s/it]"
     ]
    },
    {
     "name": "stdout",
     "output_type": "stream",
     "text": [
      "EPOCH LOSS: 4560.317217350006\n",
      "----------\n",
      "EPOCH: 99\n"
     ]
    },
    {
     "name": "stderr",
     "output_type": "stream",
     "text": [
      "\r",
      "100%|██████████| 100/100 [16:50<00:00, 10.11s/it]"
     ]
    },
    {
     "name": "stdout",
     "output_type": "stream",
     "text": [
      "EPOCH LOSS: 4550.817540645599\n"
     ]
    },
    {
     "name": "stderr",
     "output_type": "stream",
     "text": [
      "\n"
     ]
    }
   ],
   "source": [
    "from tqdm import tqdm\n",
    "\n",
    "N_EPOCHS = 100\n",
    "\n",
    "epoch_loss = []\n",
    "avg_loss = 0\n",
    "\n",
    "for epoch in tqdm(range(N_EPOCHS)):\n",
    "    print('-'*10)\n",
    "    print('EPOCH:', epoch)\n",
    "    avg_loss = 0\n",
    "    ctau = dynamic_tau(epoch)\n",
    "    \n",
    "    for batch_ix, (x, target) in enumerate(train_loader):\n",
    "        optimizer.zero_grad()\n",
    "        \n",
    "        if torch.cuda.is_available():\n",
    "            var_x, target = Variable(x.cuda()), Variable(target.cuda())\n",
    "        else:\n",
    "            var_x, target = Variable(x), Variable(target)\n",
    "        out = autoencoder(var_x)\n",
    "        loss = autoencoder.vae_loss(out[0], out[1], var_x, ctau)\n",
    "        \n",
    "        avg_loss += loss.data[0]\n",
    "        loss.backward()\n",
    "        optimizer.step()\n",
    "    \n",
    "    print('EPOCH LOSS:', avg_loss)\n",
    "    epoch_loss += [avg_loss]"
   ]
  },
  {
   "cell_type": "code",
   "execution_count": 73,
   "metadata": {
    "colab": {
     "autoexec": {
      "startup": false,
      "wait_interval": 0
     },
     "base_uri": "https://localhost:8080/",
     "height": 347
    },
    "colab_type": "code",
    "collapsed": false,
    "deletable": true,
    "editable": true,
    "executionInfo": {
     "elapsed": 562,
     "status": "ok",
     "timestamp": 1523556682810,
     "user": {
      "displayName": "Jan RocketMan",
      "photoUrl": "https://lh3.googleusercontent.com/a/default-user=s128",
      "userId": "111481953506104169496"
     },
     "user_tz": -180
    },
    "id": "Gz_xZy0Zhqss",
    "outputId": "e10ea7cd-5274-4553-e937-fe7192d245f7"
   },
   "outputs": [
    {
     "data": {
      "image/png": "[encoded data removed]",
      "text/plain": [
       "<matplotlib.figure.Figure at 0x7f3a1beaca90>"
      ]
     },
     "metadata": {
      "tags": []
     },
     "output_type": "display_data"
    }
   ],
   "source": [
    "plt.plot(epoch_loss)\n",
    "plt.show()"
   ]
  },
  {
   "cell_type": "code",
   "execution_count": 0,
   "metadata": {
    "colab": {
     "autoexec": {
      "startup": false,
      "wait_interval": 0
     }
    },
    "colab_type": "code",
    "collapsed": true,
    "deletable": true,
    "editable": true,
    "id": "Z1y_r3GEh2ii"
   },
   "outputs": [],
   "source": [
    "def get_example():\n",
    "  \n",
    "  for batch_ix, (x, target) in enumerate(train_loader):\n",
    "    if batch_ix == 1:\n",
    "      break\n",
    "    \n",
    "    var_x, target = Variable(x.cuda()), Variable(target.cuda())\n",
    "    \n",
    "    out = autoencoder(var_x)\n",
    "    \n",
    "    ex_mu, ex_log_var = autoencoder.encode(var_x)\n",
    "    \n",
    "    loss = autoencoder.vae_loss(out[0], out[1], var_x, 1)\n",
    "    \n",
    "    ex_out = out[0].data[0,:,:].cpu().numpy()\n",
    "    ex_x = var_x.data[0,0,:,:].cpu().numpy()\n",
    "    ex_target = target.data[0]\n",
    "    ex_mu = ex_mu[0,:].data.cpu().numpy()\n",
    "    ex_log_var = ex_log_var[0,:].data.cpu().numpy()\n",
    "    print('ex full loss:', loss.data[0])\n",
    "    print('ex l2 loss:', np.linalg.norm(ex_x - ex_out))\n",
    "    print('ex mu mean:', np.mean(ex_mu))\n",
    "    print('ex log var mean:', np.mean(ex_log_var))\n",
    "  return ex_x, ex_out, ex_target\n",
    "\n",
    "label_names = ['airplane', 'automobile', 'bird', \n",
    "               'cat', 'deer', 'dog', 'frog', 'horse', 'ship', 'truck']\n",
    "\n",
    "def show_example():\n",
    "  ex_x, ex_out, ex_target = get_example()\n",
    "  fig = plt.figure(figsize=(8,16))\n",
    "  ax = fig.add_subplot(121)\n",
    "  ax.set_title('ORIGINAL, CLASS - '+label_names[ex_target])\n",
    "  plt.imshow(ex_x, cmap='gray')\n",
    "  ax2 = fig.add_subplot(122)\n",
    "  ax2.set_title('RECONSTRUCTED')\n",
    "  plt.imshow(ex_out, cmap='gray')\n",
    "  plt.show()"
   ]
  },
  {
   "cell_type": "code",
   "execution_count": 75,
   "metadata": {
    "colab": {
     "autoexec": {
      "startup": false,
      "wait_interval": 0
     },
     "base_uri": "https://localhost:8080/",
     "height": 335
    },
    "colab_type": "code",
    "collapsed": false,
    "deletable": true,
    "editable": true,
    "executionInfo": {
     "elapsed": 558,
     "status": "ok",
     "timestamp": 1523556688956,
     "user": {
      "displayName": "Jan RocketMan",
      "photoUrl": "https://lh3.googleusercontent.com/a/default-user=s128",
      "userId": "111481953506104169496"
     },
     "user_tz": -180
    },
    "id": "r5vh7qPu4ZKA",
    "outputId": "04bfa07f-9eaf-45e2-8a0d-1a2f64c4c41a"
   },
   "outputs": [
    {
     "name": "stdout",
     "output_type": "stream",
     "text": [
      "ex full loss: 6.915203094482422\n",
      "ex l2 loss: 3.6669173\n",
      "ex mu mean: 0.07615973\n",
      "ex log var mean: -8.762808\n"
     ]
    },
    {
     "data": {
      "image/png": "[encoded data removed]",
      "text/plain": [
       "<matplotlib.figure.Figure at 0x7f3a1bf759b0>"
      ]
     },
     "metadata": {
      "tags": []
     },
     "output_type": "display_data"
    }
   ],
   "source": [
    "show_example()"
   ]
  },
  {
   "cell_type": "code",
   "execution_count": 76,
   "metadata": {
    "colab": {
     "autoexec": {
      "startup": false,
      "wait_interval": 0
     },
     "base_uri": "https://localhost:8080/",
     "height": 335
    },
    "colab_type": "code",
    "collapsed": false,
    "deletable": true,
    "editable": true,
    "executionInfo": {
     "elapsed": 570,
     "status": "ok",
     "timestamp": 1523556695090,
     "user": {
      "displayName": "Jan RocketMan",
      "photoUrl": "https://lh3.googleusercontent.com/a/default-user=s128",
      "userId": "111481953506104169496"
     },
     "user_tz": -180
    },
    "id": "njXPdQZA2krW",
    "outputId": "a43c4e71-00a7-487e-b1d5-6caeaab55054"
   },
   "outputs": [
    {
     "name": "stdout",
     "output_type": "stream",
     "text": [
      "ex full loss: 7.192509651184082\n",
      "ex l2 loss: 2.0980551\n",
      "ex mu mean: -0.014517078\n",
      "ex log var mean: -9.134165\n"
     ]
    },
    {
     "data": {
      "image/png": "[encoded data removed]",
      "text/plain": [
       "<matplotlib.figure.Figure at 0x7f3a2d800f28>"
      ]
     },
     "metadata": {
      "tags": []
     },
     "output_type": "display_data"
    }
   ],
   "source": [
    "show_example()"
   ]
  },
  {
   "cell_type": "code",
   "execution_count": 77,
   "metadata": {
    "colab": {
     "autoexec": {
      "startup": false,
      "wait_interval": 0
     },
     "base_uri": "https://localhost:8080/",
     "height": 335
    },
    "colab_type": "code",
    "collapsed": false,
    "deletable": true,
    "editable": true,
    "executionInfo": {
     "elapsed": 582,
     "status": "ok",
     "timestamp": 1523556700210,
     "user": {
      "displayName": "Jan RocketMan",
      "photoUrl": "https://lh3.googleusercontent.com/a/default-user=s128",
      "userId": "111481953506104169496"
     },
     "user_tz": -180
    },
    "id": "z-VLrS1L4rAu",
    "outputId": "1195d140-e9a5-4480-8c88-ba25181ccb60"
   },
   "outputs": [
    {
     "name": "stdout",
     "output_type": "stream",
     "text": [
      "ex full loss: 6.465724945068359\n",
      "ex l2 loss: 3.756923\n",
      "ex mu mean: -0.135573\n",
      "ex log var mean: -9.962357\n"
     ]
    },
    {
     "data": {
      "image/png": "[encoded data removed]",
      "text/plain": [
       "<matplotlib.figure.Figure at 0x7f3a1bf2f780>"
      ]
     },
     "metadata": {
      "tags": []
     },
     "output_type": "display_data"
    }
   ],
   "source": [
    "show_example()"
   ]
  },
  {
   "cell_type": "code",
   "execution_count": 0,
   "metadata": {
    "colab": {
     "autoexec": {
      "startup": false,
      "wait_interval": 0
     }
    },
    "colab_type": "code",
    "collapsed": true,
    "deletable": true,
    "editable": true,
    "id": "b5R6cyAFD0w2"
   },
   "outputs": [],
   "source": [
    "def generate_example(mu, log_var):\n",
    "  ex_mu = torch.FloatTensor(np.ones((1,16))*mu)\n",
    "  ex_log_var = torch.FloatTensor(np.ones((1,16))*log_var)\n",
    "  \n",
    "  ex_z = autoencoder.reparametrize(Variable(ex_mu.cuda()), Variable(ex_log_var.cuda()))\n",
    "  gen_ex, _ = autoencoder.generate(ex_z)\n",
    "  generated_ex = gen_ex[0,:].data.cpu().numpy()\n",
    "  plt.title('Generated')\n",
    "  plt.imshow(generated_ex, cmap='gray')\n",
    "  plt.show()"
   ]
  },
  {
   "cell_type": "code",
   "execution_count": 90,
   "metadata": {
    "colab": {
     "autoexec": {
      "startup": false,
      "wait_interval": 0
     },
     "base_uri": "https://localhost:8080/",
     "height": 362
    },
    "colab_type": "code",
    "collapsed": false,
    "deletable": true,
    "editable": true,
    "executionInfo": {
     "elapsed": 688,
     "status": "ok",
     "timestamp": 1523556908232,
     "user": {
      "displayName": "Jan RocketMan",
      "photoUrl": "https://lh3.googleusercontent.com/a/default-user=s128",
      "userId": "111481953506104169496"
     },
     "user_tz": -180
    },
    "id": "OdZ1B2zrBCb2",
    "outputId": "280e7eb9-d5b3-4d16-e7e7-503520b879eb"
   },
   "outputs": [
    {
     "data": {
      "image/png": "[encoded data removed]",
      "text/plain": [
       "<matplotlib.figure.Figure at 0x7f3a1c098470>"
      ]
     },
     "metadata": {
      "tags": []
     },
     "output_type": "display_data"
    }
   ],
   "source": [
    "generate_example(0.01, -8.0)"
   ]
  },
  {
   "cell_type": "code",
   "execution_count": 99,
   "metadata": {
    "colab": {
     "autoexec": {
      "startup": false,
      "wait_interval": 0
     },
     "base_uri": "https://localhost:8080/",
     "height": 362
    },
    "colab_type": "code",
    "collapsed": false,
    "deletable": true,
    "editable": true,
    "executionInfo": {
     "elapsed": 714,
     "status": "ok",
     "timestamp": 1523556959036,
     "user": {
      "displayName": "Jan RocketMan",
      "photoUrl": "https://lh3.googleusercontent.com/a/default-user=s128",
      "userId": "111481953506104169496"
     },
     "user_tz": -180
    },
    "id": "WASk0LZMDzWw",
    "outputId": "aff4013d-f76d-4198-a937-0f0ee55e753b"
   },
   "outputs": [
    {
     "data": {
      "image/png": "[encoded data removed]",
      "text/plain": [
       "<matplotlib.figure.Figure at 0x7f3a1c0b8748>"
      ]
     },
     "metadata": {
      "tags": []
     },
     "output_type": "display_data"
    }
   ],
   "source": [
    "generate_example(-0.1, -9.0)"
   ]
  },
  {
   "cell_type": "code",
   "execution_count": 121,
   "metadata": {
    "colab": {
     "autoexec": {
      "startup": false,
      "wait_interval": 0
     },
     "base_uri": "https://localhost:8080/",
     "height": 362
    },
    "colab_type": "code",
    "collapsed": false,
    "deletable": true,
    "editable": true,
    "executionInfo": {
     "elapsed": 572,
     "status": "ok",
     "timestamp": 1523557122364,
     "user": {
      "displayName": "Jan RocketMan",
      "photoUrl": "https://lh3.googleusercontent.com/a/default-user=s128",
      "userId": "111481953506104169496"
     },
     "user_tz": -180
    },
    "id": "74OXwL3MEmB8",
    "outputId": "97097ded-8c2c-4792-fd5b-85d4ff550800"
   },
   "outputs": [
    {
     "data": {
      "image/png": "[encoded data removed]",
      "text/plain": [
       "<matplotlib.figure.Figure at 0x7f3a1beef978>"
      ]
     },
     "metadata": {
      "tags": []
     },
     "output_type": "display_data"
    }
   ],
   "source": [
    "generate_example(0.6, -8)"
   ]
  },
  {
   "cell_type": "code",
   "execution_count": 122,
   "metadata": {
    "colab": {
     "autoexec": {
      "startup": false,
      "wait_interval": 0
     },
     "base_uri": "https://localhost:8080/",
     "height": 106
    },
    "colab_type": "code",
    "collapsed": false,
    "deletable": true,
    "editable": true,
    "executionInfo": {
     "elapsed": 12402,
     "status": "ok",
     "timestamp": 1523557186128,
     "user": {
      "displayName": "Jan RocketMan",
      "photoUrl": "https://lh3.googleusercontent.com/a/default-user=s128",
      "userId": "111481953506104169496"
     },
     "user_tz": -180
    },
    "id": "Jo-MS4Gm7fY-",
    "outputId": "e078df1d-96f3-46ca-9dfa-fc5c2ef767ee"
   },
   "outputs": [
    {
     "name": "stdout",
     "output_type": "stream",
     "text": [
      "Please, open the following URL in a web browser: https://accounts.google.com/o/oauth2/auth?client_id=32555940559.apps.googleusercontent.com&redirect_uri=urn%3Aietf%3Awg%3Aoauth%3A2.0%3Aoob&scope=https%3A%2F%2Fwww.googleapis.com%2Fauth%2Fdrive&response_type=code&access_type=offline&approval_prompt=force\r\n",
      "··········\n",
      "Please, open the following URL in a web browser: https://accounts.google.com/o/oauth2/auth?client_id=32555940559.apps.googleusercontent.com&redirect_uri=urn%3Aietf%3Awg%3Aoauth%3A2.0%3Aoob&scope=https%3A%2F%2Fwww.googleapis.com%2Fauth%2Fdrive&response_type=code&access_type=offline&approval_prompt=force\n",
      "Please enter the verification code: Access token retrieved correctly.\n"
     ]
    }
   ],
   "source": [
    "!apt-get install -y -qq software-properties-common python-software-properties module-init-tools\n",
    "!add-apt-repository -y ppa:alessandro-strada/ppa 2>&1 > /dev/null\n",
    "!apt-get update -qq 2>&1 > /dev/null\n",
    "!apt-get -y install -qq google-drive-ocamlfuse fuse\n",
    "from google.colab import auth\n",
    "auth.authenticate_user()\n",
    "from oauth2client.client import GoogleCredentials\n",
    "creds = GoogleCredentials.get_application_default()\n",
    "import getpass\n",
    "!google-drive-ocamlfuse -headless -id={creds.client_id} -secret={creds.client_secret} < /dev/null 2>&1 | grep URL\n",
    "vcode = getpass.getpass()\n",
    "!echo {vcode} | google-drive-ocamlfuse -headless -id={creds.client_id} -secret={creds.client_secret}"
   ]
  },
  {
   "cell_type": "code",
   "execution_count": 0,
   "metadata": {
    "colab": {
     "autoexec": {
      "startup": false,
      "wait_interval": 0
     }
    },
    "colab_type": "code",
    "collapsed": true,
    "deletable": true,
    "editable": true,
    "id": "3kUFKGX07v1o"
   },
   "outputs": [],
   "source": [
    "!mkdir -p drive\n",
    "!google-drive-ocamlfuse drive"
   ]
  },
  {
   "cell_type": "code",
   "execution_count": 0,
   "metadata": {
    "colab": {
     "autoexec": {
      "startup": false,
      "wait_interval": 0
     }
    },
    "colab_type": "code",
    "collapsed": true,
    "deletable": true,
    "editable": true,
    "id": "MdXNHs487z94"
   },
   "outputs": [],
   "source": [
    "torch.save(autoencoder.state_dict(), 'drive/vae_checkpoint.ptr')"
   ]
  }
 ],
 "metadata": {
  "accelerator": "GPU",
  "colab": {
   "collapsed_sections": [],
   "default_view": {},
   "name": "VAE.ipynb",
   "provenance": [],
   "version": "0.3.2",
   "views": {}
  },
  "kernelspec": {
   "display_name": "Python 3",
   "language": "python",
   "name": "python3"
  },
  "language_info": {
   "codemirror_mode": {
    "name": "ipython",
    "version": 3
   },
   "file_extension": ".py",
   "mimetype": "text/x-python",
   "name": "python",
   "nbconvert_exporter": "python",
   "pygments_lexer": "ipython3",
   "version": "3.5.2"
  }
 },
 "nbformat": 4,
 "nbformat_minor": 0
}
