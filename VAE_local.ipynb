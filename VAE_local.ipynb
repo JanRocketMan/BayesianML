{
 "cells": [
  {
   "cell_type": "code",
   "execution_count": 1,
   "metadata": {
    "collapsed": false,
    "deletable": true,
    "editable": true
   },
   "outputs": [],
   "source": [
    "import numpy as np\n",
    "import matplotlib.pyplot as plt\n",
    "import os\n",
    "\n",
    "import torch\n",
    "import torch.nn as nn\n",
    "from torch.autograd import Variable\n",
    "import torch.optim as optim\n",
    "import torch.nn.functional as F\n",
    "from torch.distributions import Normal\n",
    "import torch.nn.init as init\n",
    "\n",
    "import torch.utils.data as Data\n",
    "import torchvision.datasets as dset\n",
    "from torchvision import transforms"
   ]
  },
  {
   "cell_type": "code",
   "execution_count": 2,
   "metadata": {
    "collapsed": false,
    "deletable": true,
    "editable": true
   },
   "outputs": [],
   "source": [
    "DOWNLOAD_CIFAR10 = False\n",
    "\n",
    "if not(os.path.exists('./cifar10/')) or not os.listdir('./cifar10/'):\n",
    "    # not cifar10 dir or cifar10 is empyt dir\n",
    "    DOWNLOAD_CIFAR10 = True\n",
    "\n",
    "trans = transforms.Compose([transforms.Grayscale(),transforms.ToTensor()])\n",
    "train_set = dset.CIFAR10('./cifar10', train=True, transform=trans, download=DOWNLOAD_CIFAR10)"
   ]
  },
  {
   "cell_type": "code",
   "execution_count": 3,
   "metadata": {
    "collapsed": true
   },
   "outputs": [],
   "source": [
    "gray_scaled_train = np.dot(train_set.train_data[...,:3], [0.299, 0.587, 0.114])"
   ]
  },
  {
   "cell_type": "code",
   "execution_count": 4,
   "metadata": {
    "collapsed": false,
    "deletable": true,
    "editable": true
   },
   "outputs": [
    {
     "name": "stdout",
     "output_type": "stream",
     "text": [
      "Train set shape: (50000, 32, 32)\n"
     ]
    },
    {
     "data": {
      "image/png": "[encoded data removed]",
      "text/plain": [
       "<matplotlib.figure.Figure at 0x7f76ad1b8240>"
      ]
     },
     "metadata": {},
     "output_type": "display_data"
    }
   ],
   "source": [
    "print('Train set shape:', gray_scaled_train.shape) # (50000, 32, 32)\n",
    "label_names = ['airplane', 'automobile', 'bird', \n",
    "               'cat', 'deer', 'dog', 'frog', 'horse', 'ship', 'truck']\n",
    "\n",
    "ri = np.random.randint(0, len(train_set), 1)[0]\n",
    "\n",
    "fig = plt.figure(figsize=(8,16))\n",
    "ax = fig.add_subplot(121)\n",
    "ax.set_title('ORIGINAL, CLASS - '+label_names[train_set.train_labels[ri]])\n",
    "plt.imshow(train_set.train_data[ri])\n",
    "ax2 = fig.add_subplot(122)\n",
    "ax2.set_title('GREYSCALED')\n",
    "plt.imshow(gray_scaled_train[ri], cmap=plt.get_cmap('gray'))\n",
    "plt.show()"
   ]
  },
  {
   "cell_type": "code",
   "execution_count": 5,
   "metadata": {
    "collapsed": false,
    "deletable": true,
    "editable": true
   },
   "outputs": [],
   "source": [
    "BATCH_SIZE = 80\n",
    "\n",
    "train_loader = Data.DataLoader(dataset=train_set, batch_size=BATCH_SIZE, shuffle=True)"
   ]
  },
  {
   "cell_type": "markdown",
   "metadata": {},
   "source": [
    "# Probabalistic VAE model:\n",
    "\n",
    "## $p(x|\\theta_{dec},z) = \\mathcal{N}(x|\\theta_{dec}^0(z), \\theta_{dec}^1(z));$\n",
    "\n",
    "## $q(z|\\theta_{enc}, x) = \\mathcal{N}(z|\\theta_{enc}^0(x), \\theta_{enc}^1(x));$\n",
    "\n",
    "## $q_{\\text{prior}}(z) = \\mathcal{N}(z|0, I_d);$\n",
    "\n",
    "## $\\mathcal{L}_V(\\theta_{enc}, \\theta_{dec}) = \\mathbb{E}_{q(\\theta_{enc},x)}log\\ p(x|\\theta_{dec},z) - \\mathbb{D}_{KL}(q(\\theta_{enc},x)\\| q_{\\text{prior}}(z)) \\rightarrow max_{\\theta_{enc}, \\theta_{dec}};$\n",
    "\n",
    "## $\\widetilde{\\mathcal{L}_V}(\\theta_{enc}, \\theta_{dec}) = 0.5\\frac{N}{M}\\sum_{i=1}^M(ln(\\theta_{dec}^1) + \n",
    "\\frac{(x-\\theta_{dec}^0))}{}$"
   ]
  },
  {
   "cell_type": "code",
   "execution_count": 16,
   "metadata": {
    "collapsed": true
   },
   "outputs": [],
   "source": [
    "class SimpleVAE(nn.Module):\n",
    "    def __init__(self, embed_dim):\n",
    "        \"\"\"\n",
    "        :param embed_dim: dimension of the hidden space, integer\n",
    "        \"\"\"\n",
    "        super(SimpleVAE, self).__init__()\n",
    "        self.embed_dim = embed_dim\n",
    "        \n",
    "        # encoding\n",
    "        self.enc2med = nn.Linear(32*32, 512)\n",
    "        self.med2mu_enc = nn.Linear(512, embed_dim)\n",
    "        self.med2log_var_enc = nn.Linear(512, embed_dim)\n",
    "        \n",
    "        # decoding\n",
    "        self.sample2med = nn.Linear(embed_dim, 512)\n",
    "        self.med2mu_dec = nn.Linear(512, 32*32)\n",
    "        self.med2log_var_dec = nn.Linear(512, 32*32)\n",
    "        \n",
    "        self.init_weights()\n",
    "    \n",
    "    def encode(self, x):\n",
    "        \"\"\"\n",
    "        Retrieves hidden distribution params from the input image\n",
    "        \n",
    "        :param x: inputs, Variable of shape (batch_size, 32, 32)\n",
    "        :return: mean and log_std for the hidden normal distribution, \n",
    "        two Variables of shapes (batch_size, embed_dim)\n",
    "        \"\"\"\n",
    "        flattened = x.view(x.size()[0],-1)\n",
    "        med = F.relu(self.enc2med(flattened))\n",
    "        return self.med2mu_enc(med), self.med2log_var_enc(med)\n",
    "    \n",
    "    def decode(self, z):\n",
    "        \"\"\"\n",
    "        Decodes image distribution params from the sampled hidden state\n",
    "        \n",
    "        :param z: inputs, Variable of shape (batch_size, embed_dim)\n",
    "        :return: mean and log_std for the image normal distribution,\n",
    "        two Variables of shapes (batch_size, 32, 32)\n",
    "        \"\"\"\n",
    "        med = F.relu(self.sample2med(z))\n",
    "        mu_dec = self.med2mu_dec(med)\n",
    "        log_var_dec = self.med2log_var_dec(med)\n",
    "        \n",
    "        mu_dec = mu_dec.view(mu_dec.size()[0], 32, 32)\n",
    "        log_var_dec = log_var_dec.view(log_var_dec.size()[0], 32, 32)\n",
    "        return mu_dec, log_var_dec\n",
    "    \n",
    "    def reparametrize(self, mu, log_var):\n",
    "        \"\"\"\n",
    "        Performs reparametrization trick to sample data\n",
    "        \n",
    "        :param mu: mean of the desired distribution, Variable of shape (batch_size, embed_dim)\n",
    "        :param log_var: log_std of the desired distribution, \n",
    "        Variable of shape (batch_size, embed_dim)\n",
    "        :return: samples, Variable of shape (batch_size, embed_dim)\n",
    "        \"\"\"\n",
    "        standard_normal = Normal(torch.zeros(mu.size()[0], self.embed_dim), \n",
    "                                      torch.ones(mu.size()[0], self.embed_dim))\n",
    "        if torch.cuda.is_available():\n",
    "            r = Variable(standard_normal.sample().cuda(), requires_grad=False)\n",
    "        else:\n",
    "            r = Variable(standard_normal.sample(), requires_grad=False)\n",
    "        \n",
    "        return r * torch.exp(0.5 * log_var) + mu\n",
    "    \n",
    "    def forward(self, x):\n",
    "        \"\"\"\n",
    "        Encodes input to get mean and std of hidden representations,\n",
    "        and then decodes a sample from them\n",
    "        \n",
    "        :param x: inputs, Variable of shape (batch_size, 32, 32)\n",
    "        :return: post-processed mean and log_std for the image normal distribution,\n",
    "        two Variables of shapes (batch_size, 32, 32)\n",
    "        \"\"\"\n",
    "        self.mu_enc, self.log_var_enc = self.encode(x)\n",
    "        \n",
    "        sample_z = self.reparametrize(self.mu_enc, self.log_var_enc)\n",
    "        \n",
    "        self.mu_dec, self.log_var_dec = self.decode(sample_z)\n",
    "        \n",
    "        return F.sigmoid(self.mu_dec), F.sigmoid(self.log_var_dec)\n",
    "    \n",
    "    def vae_loss(self, prediction, log_dispersion, target, tau):\n",
    "        \"\"\"\n",
    "        Computes reconstruction loss, given prediction and target.\n",
    "        IMPORTANT! Assumes that the prediction was already fed through the forward\n",
    "        and self.mu_enc, self.log_var_enc, self.log_var_dec stores relevant values\n",
    "        \n",
    "        :param prediction: reconstructed image, Variable of shape (batch_size, 32, 32)\n",
    "        :param log_dispersion: per-pixel log of dispersion, Variable of shape (batch_size, 32, 32)\n",
    "        :param target: ground-truth image, Variable of shape (batch_size, 32, 32)\n",
    "        :param tau: warm-start weight, float Variabe of shape (1,) \n",
    "        :return: averaged accross batches loss, float Variable of shape (1,)\n",
    "        \"\"\"\n",
    "        est_x = prediction.view(prediction.size()[0],-1)\n",
    "        est_log_sigma = log_dispersion.view(log_dispersion.size()[0],-1)\n",
    "        true_x = target.view(target.size()[0],-1)\n",
    "        \n",
    "        l2_loss = 0.5 * torch.sum((est_x - true_x)**2/est_log_sigma.exp(), dim=1)\n",
    "        \n",
    "        dec_reg = 0.5 * torch.sum(est_log_sigma, dim=1)\n",
    "        \n",
    "        enc_reg = 0.5 * torch.sum(self.mu_enc**2 + self.log_var_enc.exp() - self.log_var_enc - 1, dim=1)\n",
    "        \n",
    "        return torch.mean(l2_loss + dec_reg + enc_reg * tau)\n",
    "    \n",
    "    def generate(self, z):\n",
    "        \"\"\"\n",
    "        Generates an example\n",
    "        \n",
    "        :param z: hidden sample, Variable of shape (embed_dim,)\n",
    "        :return: generated image, Variable of shape (32, 32)\n",
    "        \"\"\"\n",
    "        return self.decode(z)\n",
    "    \n",
    "    def init_weights(self):\n",
    "        \"\"\"\n",
    "        Initialize weights of the model\n",
    "        \"\"\"\n",
    "        relu_gain = init.calculate_gain('relu')\n",
    "        \n",
    "        init.xavier_uniform(self.enc2med.weight, relu_gain)\n",
    "        init.xavier_uniform(self.med2mu_enc.weight)\n",
    "        init.xavier_uniform(self.med2log_var_enc.weight)\n",
    "        \n",
    "        init.xavier_uniform(self.sample2med.weight, relu_gain)\n",
    "        init.xavier_uniform(self.med2mu_dec.weight)\n",
    "        init.xavier_uniform(self.med2log_var_dec.weight)"
   ]
  },
  {
   "cell_type": "code",
   "execution_count": 17,
   "metadata": {
    "collapsed": false
   },
   "outputs": [],
   "source": [
    "autoencoder = SimpleVAE(24)\n",
    "\n",
    "optimizer = optim.Adam(autoencoder.parameters(), lr=1e-3)\n",
    "\n",
    "if torch.cuda.is_available():\n",
    "    print('using cuda...')\n",
    "    autoencoder = autoencoder.cuda()"
   ]
  },
  {
   "cell_type": "code",
   "execution_count": 18,
   "metadata": {
    "collapsed": true
   },
   "outputs": [],
   "source": [
    "def dynamic_tau(epoch):\n",
    "    # warm start condition\n",
    "    tau = 0\n",
    "    if epoch < 5:\n",
    "        tau = 0\n",
    "    elif epoch < 20:\n",
    "        tau = (epoch-10)/10\n",
    "    elif epoch >= 20:\n",
    "        tau = 1\n",
    "    return tau"
   ]
  },
  {
   "cell_type": "code",
   "execution_count": 19,
   "metadata": {
    "collapsed": false
   },
   "outputs": [
    {
     "name": "stdout",
     "output_type": "stream",
     "text": [
      "----------\n",
      "EPOCH: 0\n",
      "EPOCH LOSS: 8888.773612976074\n",
      "----------\n",
      "EPOCH: 1\n"
     ]
    },
    {
     "ename": "KeyboardInterrupt",
     "evalue": "",
     "output_type": "error",
     "traceback": [
      "\u001b[0;31m---------------------------------------------------------------------------\u001b[0m",
      "\u001b[0;31mKeyboardInterrupt\u001b[0m                         Traceback (most recent call last)",
      "\u001b[0;32m<ipython-input-19-780c2d3caf33>\u001b[0m in \u001b[0;36m<module>\u001b[0;34m()\u001b[0m\n\u001b[1;32m     23\u001b[0m         \u001b[0mavg_loss\u001b[0m \u001b[0;34m+=\u001b[0m \u001b[0mloss\u001b[0m\u001b[0;34m.\u001b[0m\u001b[0mdata\u001b[0m\u001b[0;34m[\u001b[0m\u001b[0;36m0\u001b[0m\u001b[0;34m]\u001b[0m\u001b[0;34m\u001b[0m\u001b[0m\n\u001b[1;32m     24\u001b[0m         \u001b[0mloss\u001b[0m\u001b[0;34m.\u001b[0m\u001b[0mbackward\u001b[0m\u001b[0;34m(\u001b[0m\u001b[0;34m)\u001b[0m\u001b[0;34m\u001b[0m\u001b[0m\n\u001b[0;32m---> 25\u001b[0;31m         \u001b[0moptimizer\u001b[0m\u001b[0;34m.\u001b[0m\u001b[0mstep\u001b[0m\u001b[0;34m(\u001b[0m\u001b[0;34m)\u001b[0m\u001b[0;34m\u001b[0m\u001b[0m\n\u001b[0m\u001b[1;32m     26\u001b[0m \u001b[0;34m\u001b[0m\u001b[0m\n\u001b[1;32m     27\u001b[0m     \u001b[0mprint\u001b[0m\u001b[0;34m(\u001b[0m\u001b[0;34m'EPOCH LOSS:'\u001b[0m\u001b[0;34m,\u001b[0m \u001b[0mavg_loss\u001b[0m\u001b[0;34m)\u001b[0m\u001b[0;34m\u001b[0m\u001b[0m\n",
      "\u001b[0;32m/usr/local/lib/python3.5/dist-packages/torch/optim/adam.py\u001b[0m in \u001b[0;36mstep\u001b[0;34m(self, closure)\u001b[0m\n\u001b[1;32m     76\u001b[0m                 \u001b[0mstep_size\u001b[0m \u001b[0;34m=\u001b[0m \u001b[0mgroup\u001b[0m\u001b[0;34m[\u001b[0m\u001b[0;34m'lr'\u001b[0m\u001b[0;34m]\u001b[0m \u001b[0;34m*\u001b[0m \u001b[0mmath\u001b[0m\u001b[0;34m.\u001b[0m\u001b[0msqrt\u001b[0m\u001b[0;34m(\u001b[0m\u001b[0mbias_correction2\u001b[0m\u001b[0;34m)\u001b[0m \u001b[0;34m/\u001b[0m \u001b[0mbias_correction1\u001b[0m\u001b[0;34m\u001b[0m\u001b[0m\n\u001b[1;32m     77\u001b[0m \u001b[0;34m\u001b[0m\u001b[0m\n\u001b[0;32m---> 78\u001b[0;31m                 \u001b[0mp\u001b[0m\u001b[0;34m.\u001b[0m\u001b[0mdata\u001b[0m\u001b[0;34m.\u001b[0m\u001b[0maddcdiv_\u001b[0m\u001b[0;34m(\u001b[0m\u001b[0;34m-\u001b[0m\u001b[0mstep_size\u001b[0m\u001b[0;34m,\u001b[0m \u001b[0mexp_avg\u001b[0m\u001b[0;34m,\u001b[0m \u001b[0mdenom\u001b[0m\u001b[0;34m)\u001b[0m\u001b[0;34m\u001b[0m\u001b[0m\n\u001b[0m\u001b[1;32m     79\u001b[0m \u001b[0;34m\u001b[0m\u001b[0m\n\u001b[1;32m     80\u001b[0m         \u001b[0;32mreturn\u001b[0m \u001b[0mloss\u001b[0m\u001b[0;34m\u001b[0m\u001b[0m\n",
      "\u001b[0;31mKeyboardInterrupt\u001b[0m: "
     ]
    }
   ],
   "source": [
    "N_EPOCHS = 10\n",
    "\n",
    "epoch_loss = []\n",
    "avg_loss = 0\n",
    "\n",
    "for epoch in range(N_EPOCHS):\n",
    "    print('-'*10)\n",
    "    print('EPOCH:', epoch)\n",
    "    avg_loss = 0\n",
    "    ctau = dynamic_tau(epoch)\n",
    "    \n",
    "    for batch_ix, (x, target) in enumerate(train_loader):\n",
    "        optimizer.zero_grad()\n",
    "        \n",
    "        if torch.cuda.is_available():\n",
    "            normed_x, target = Variable(x.cuda()), Variable(target.cuda())\n",
    "        else:\n",
    "            normed_x, target = Variable(x), Variable(target)\n",
    "        \n",
    "        out = autoencoder(normed_x)\n",
    "        loss = autoencoder.vae_loss(out[0], out[1], normed_x, ctau)\n",
    "        \n",
    "        avg_loss += loss.data[0]\n",
    "        loss.backward()\n",
    "        optimizer.step()\n",
    "    \n",
    "    print('EPOCH LOSS:', avg_loss)\n",
    "    epoch_loss += [avg_loss]"
   ]
  },
  {
   "cell_type": "code",
   "execution_count": 100,
   "metadata": {
    "collapsed": false,
    "deletable": true,
    "editable": true
   },
   "outputs": [
    {
     "name": "stdout",
     "output_type": "stream",
     "text": [
      "5.218120574951172\n"
     ]
    }
   ],
   "source": [
    "for batch_ix, (x, target) in enumerate(train_loader):\n",
    "    if batch_ix == 1:\n",
    "        break\n",
    "    \n",
    "    normed_x, target = Variable(x), Variable(target)\n",
    "        \n",
    "    out = autoencoder(normed_x)\n",
    "    \n",
    "    loss = autoencoder.vae_loss(out, normed_x)\n",
    "    \n",
    "    ex_out = out.data[0,:,:].numpy()\n",
    "    ex_x = normed_x.data[0,0,:,:].numpy()\n",
    "    ex_target = target.data[0]\n",
    "    print(loss.data[0])"
   ]
  },
  {
   "cell_type": "code",
   "execution_count": 101,
   "metadata": {
    "collapsed": false
   },
   "outputs": [
    {
     "data": {
      "image/png": "[encoded data removed]",
      "text/plain": [
       "<matplotlib.figure.Figure at 0x7f42603e8940>"
      ]
     },
     "metadata": {},
     "output_type": "display_data"
    }
   ],
   "source": [
    "fig = plt.figure(figsize=(8,16))\n",
    "ax = fig.add_subplot(121)\n",
    "ax.set_title('ORIGINAL, CLASS - '+label_names[ex_target])\n",
    "plt.imshow(ex_x, cmap='gray')\n",
    "ax2 = fig.add_subplot(122)\n",
    "ax2.set_title('PREDICTED')\n",
    "plt.imshow(ex_out, cmap='gray')\n",
    "plt.show()"
   ]
  }
 ],
 "metadata": {
  "kernelspec": {
   "display_name": "Python 3",
   "language": "python",
   "name": "python3"
  },
  "language_info": {
   "codemirror_mode": {
    "name": "ipython",
    "version": 3
   },
   "file_extension": ".py",
   "mimetype": "text/x-python",
   "name": "python",
   "nbconvert_exporter": "python",
   "pygments_lexer": "ipython3",
   "version": "3.5.2"
  }
 },
 "nbformat": 4,
 "nbformat_minor": 2
}
